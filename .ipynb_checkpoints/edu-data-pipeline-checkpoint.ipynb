{
 "cells": [
  {
   "cell_type": "code",
   "execution_count": 1,
   "id": "f7e10126-5974-4a2b-b989-b4da10667a61",
   "metadata": {},
   "outputs": [
    {
     "name": "stdout",
     "output_type": "stream",
     "text": [
      "3.10.9 (main, Dec 15 2022, 10:44:50) [Clang 14.0.0 (clang-1400.0.29.202)]\n"
     ]
    }
   ],
   "source": [
    "# check python version\n",
    "import sys\n",
    "print(sys.version)"
   ]
  },
  {
   "cell_type": "markdown",
   "id": "72dea9a7-7157-4579-80c8-56062efd5309",
   "metadata": {},
   "source": [
    "## Data Pipeline"
   ]
  },
  {
   "cell_type": "markdown",
   "id": "c640870c-1369-4e48-9aa8-f8cef45a2b17",
   "metadata": {},
   "source": [
    "In this project I will showcase how to ETL female literacy rate data from the World Bank by utilizing its API. \n",
    "\n",
    "More precisely, this table: *Literacy rate, adult female (% of females ages 15 and above)*"
   ]
  },
  {
   "cell_type": "markdown",
   "id": "71b29655-cc20-494e-b0fe-fd3d71bd792f",
   "metadata": {},
   "source": [
    "My ultimate goal is to use this data to create a data analysis dashboard that shows the gender disparity in the STEM field, particularly in Latin America. This dataset will be part of a collection of datasets I will use to make my analysis"
   ]
  },
  {
   "cell_type": "markdown",
   "id": "bf4bac25-fac3-45dc-88a5-a00c2454881c",
   "metadata": {},
   "source": [
    "If you want to know more about this API check the documentation here: https://datahelpdesk.worldbank.org/knowledgebase/articles/898581-api-basic-call-structures"
   ]
  },
  {
   "cell_type": "markdown",
   "id": "52e321cc-e29e-4783-b3f8-4ce79f3d1dbb",
   "metadata": {},
   "source": [
    "### Step 1: Data Extraction\n",
    "We will start by extracting data from the UNESCO data portal. For this, we need to use web scraping tools to automate the data extraction process."
   ]
  },
  {
   "cell_type": "code",
   "execution_count": 2,
   "id": "10f9e595-bf62-48a5-b11e-1055571257f5",
   "metadata": {},
   "outputs": [
    {
     "name": "stdout",
     "output_type": "stream",
     "text": [
      "Requirement already satisfied: requests in /opt/homebrew/lib/python3.10/site-packages (from -r requirements.txt (line 1)) (2.31.0)\n",
      "Requirement already satisfied: beautifulsoup4 in /opt/homebrew/lib/python3.10/site-packages (from -r requirements.txt (line 2)) (4.11.1)\n",
      "Requirement already satisfied: pandas in /opt/homebrew/lib/python3.10/site-packages (from -r requirements.txt (line 3)) (2.1.0)\n",
      "Requirement already satisfied: matplotlib in /opt/homebrew/lib/python3.10/site-packages (from -r requirements.txt (line 4)) (3.8.2)\n",
      "Requirement already satisfied: charset-normalizer<4,>=2 in /opt/homebrew/lib/python3.10/site-packages (from requests->-r requirements.txt (line 1)) (2.1.1)\n",
      "Requirement already satisfied: idna<4,>=2.5 in /opt/homebrew/lib/python3.10/site-packages (from requests->-r requirements.txt (line 1)) (3.4)\n",
      "Requirement already satisfied: urllib3<3,>=1.21.1 in /opt/homebrew/lib/python3.10/site-packages (from requests->-r requirements.txt (line 1)) (1.26.13)\n",
      "Requirement already satisfied: certifi>=2017.4.17 in /opt/homebrew/lib/python3.10/site-packages (from requests->-r requirements.txt (line 1)) (2022.12.7)\n",
      "Requirement already satisfied: soupsieve>1.2 in /opt/homebrew/lib/python3.10/site-packages (from beautifulsoup4->-r requirements.txt (line 2)) (2.3.2.post1)\n",
      "Requirement already satisfied: numpy>=1.22.4 in /opt/homebrew/lib/python3.10/site-packages (from pandas->-r requirements.txt (line 3)) (1.26.0)\n",
      "Requirement already satisfied: python-dateutil>=2.8.2 in /opt/homebrew/lib/python3.10/site-packages (from pandas->-r requirements.txt (line 3)) (2.8.2)\n",
      "Requirement already satisfied: pytz>=2020.1 in /opt/homebrew/lib/python3.10/site-packages (from pandas->-r requirements.txt (line 3)) (2022.6)\n",
      "Requirement already satisfied: tzdata>=2022.1 in /opt/homebrew/lib/python3.10/site-packages (from pandas->-r requirements.txt (line 3)) (2023.3)\n",
      "Requirement already satisfied: contourpy>=1.0.1 in /opt/homebrew/lib/python3.10/site-packages (from matplotlib->-r requirements.txt (line 4)) (1.2.0)\n",
      "Requirement already satisfied: cycler>=0.10 in /opt/homebrew/lib/python3.10/site-packages (from matplotlib->-r requirements.txt (line 4)) (0.12.1)\n",
      "Requirement already satisfied: fonttools>=4.22.0 in /opt/homebrew/lib/python3.10/site-packages (from matplotlib->-r requirements.txt (line 4)) (4.45.1)\n",
      "Requirement already satisfied: kiwisolver>=1.3.1 in /opt/homebrew/lib/python3.10/site-packages (from matplotlib->-r requirements.txt (line 4)) (1.4.5)\n",
      "Requirement already satisfied: packaging>=20.0 in /opt/homebrew/lib/python3.10/site-packages (from matplotlib->-r requirements.txt (line 4)) (22.0)\n",
      "Requirement already satisfied: pillow>=8 in /opt/homebrew/lib/python3.10/site-packages (from matplotlib->-r requirements.txt (line 4)) (10.1.0)\n",
      "Requirement already satisfied: pyparsing>=2.3.1 in /opt/homebrew/lib/python3.10/site-packages (from matplotlib->-r requirements.txt (line 4)) (3.1.1)\n",
      "Requirement already satisfied: six>=1.5 in /opt/homebrew/lib/python3.10/site-packages (from python-dateutil>=2.8.2->pandas->-r requirements.txt (line 3)) (1.16.0)\n"
     ]
    }
   ],
   "source": [
    "# Install dependencies\n",
    "!pip install -r requirements.txt"
   ]
  },
  {
   "cell_type": "code",
   "execution_count": 3,
   "id": "3be5bbaa-d445-44ff-8c39-c68995807988",
   "metadata": {},
   "outputs": [],
   "source": [
    "# Import libraries\n",
    "import requests\n",
    "from bs4 import BeautifulSoup\n",
    "import pandas as pd\n",
    "import matplotlib.pyplot as plt"
   ]
  },
  {
   "cell_type": "markdown",
   "id": "71e31fd6-8363-4d62-921d-b89be04e1363",
   "metadata": {},
   "source": [
    "##### API endpoint and parameters\n",
    "I am defining the parameters of my extracted data here in a param dictionary. The `requests` library automatically encodes these parameters into the url. The parameters are available in the [API's documentation](https://datahelpdesk.worldbank.org/knowledgebase/articles/898581-api-basic-call-structures). This improves code readability.\n",
    "\n",
    "* **JSON**: I want for the raw data to be extracted in json format as it's easier to read, more compact, and therefore faster to parse through \n",
    "* **date**: This is the date range of my data"
   ]
  },
  {
   "cell_type": "code",
   "execution_count": 4,
   "id": "5cf74cb8-05a2-4447-acc5-469f631c0058",
   "metadata": {},
   "outputs": [],
   "source": [
    "# World Bank API endpoint URL\n",
    "\n",
    "url = \"https://api.worldbank.org/v2/country/all/indicator/SE.ADT.LITR.FE.ZS\"\n",
    "\n",
    "# Establish the parameters you want your data to have\n",
    "params = {\n",
    "    \"format\": \"json\",\n",
    "    \"date\": \"2000:2023\",\n",
    "    \"per_page\": 1000\n",
    "}"
   ]
  },
  {
   "cell_type": "markdown",
   "id": "9100b568-73fc-435c-ad66-bf122de0942e",
   "metadata": {},
   "source": [
    "**Important Note**:\n",
    "We want to ensure we are extracting all the data. Since this is API returns paginated responses we have to ensure we are fetching all the pages"
   ]
  },
  {
   "cell_type": "markdown",
   "id": "96f98124-b714-4b88-90d1-fd22790405c8",
   "metadata": {},
   "source": [
    "There are multiple things happening within this function. \n",
    "\n",
    "We know that the first record of the json response for each page `data[0]` is metadata , *I discovered this when I extracted a single page*. Therefore: \n",
    "1. We are discarding the metadata by populating the list `all_data` with the actual data which is inside the second record in the json response `data[1]`\n",
    "2. Once we don't find any more data records we break out of the while loop and return all the data in a single list!"
   ]
  },
  {
   "cell_type": "code",
   "execution_count": 5,
   "id": "a5bc83e9-208f-48c7-ac35-5a2ef493ec52",
   "metadata": {},
   "outputs": [],
   "source": [
    "# Return all the pages from the paginated API responses\n",
    "\n",
    "def fetch_all(url, params):\n",
    "    all_data = []\n",
    "    page = 1\n",
    "    \n",
    "    while True:\n",
    "        params['page'] = page\n",
    "        response = requests.get(url, params=params)\n",
    "        data = response.json()\n",
    "        \n",
    "        # Check if there are records\n",
    "        if len(data) > 1 and data[1]:\n",
    "            print(data[0])  # this will print the metadata to ensure that we fetch all the pages\n",
    "            all_data.extend(data[1])\n",
    "            page += 1\n",
    "        else:\n",
    "            break\n",
    "    return all_data"
   ]
  },
  {
   "cell_type": "code",
   "execution_count": 6,
   "id": "ed20cfb6-b53e-46e0-bd99-7d5834fd9470",
   "metadata": {},
   "outputs": [
    {
     "name": "stdout",
     "output_type": "stream",
     "text": [
      "{'page': 1, 'pages': 7, 'per_page': 1000, 'total': 6384, 'sourceid': '2', 'lastupdated': '2024-05-30'}\n",
      "{'page': 2, 'pages': 7, 'per_page': 1000, 'total': 6384, 'sourceid': '2', 'lastupdated': '2024-05-30'}\n",
      "{'page': 3, 'pages': 7, 'per_page': 1000, 'total': 6384, 'sourceid': '2', 'lastupdated': '2024-05-30'}\n",
      "{'page': 4, 'pages': 7, 'per_page': 1000, 'total': 6384, 'sourceid': '2', 'lastupdated': '2024-05-30'}\n",
      "{'page': 5, 'pages': 7, 'per_page': 1000, 'total': 6384, 'sourceid': '2', 'lastupdated': '2024-05-30'}\n",
      "{'page': 6, 'pages': 7, 'per_page': 1000, 'total': 6384, 'sourceid': '2', 'lastupdated': '2024-05-30'}\n",
      "{'page': 7, 'pages': 7, 'per_page': 1000, 'total': 6384, 'sourceid': '2', 'lastupdated': '2024-05-30'}\n"
     ]
    }
   ],
   "source": [
    "data = fetch_all(url, params)"
   ]
  },
  {
   "cell_type": "markdown",
   "id": "75611d7a-18fa-441a-acc0-de434064a3da",
   "metadata": {},
   "source": [
    "### Step 2. Data Transformation"
   ]
  },
  {
   "cell_type": "markdown",
   "id": "9c335d7e-1138-40bd-9a77-1bff88ba2590",
   "metadata": {
    "tags": []
   },
   "source": [
    "##### Convert to a raw data to DataFrame\n"
   ]
  },
  {
   "cell_type": "code",
   "execution_count": 7,
   "id": "ee37385a-48cf-45d4-b036-f84189a7268d",
   "metadata": {},
   "outputs": [],
   "source": [
    "df = pd.DataFrame(data)"
   ]
  },
  {
   "cell_type": "markdown",
   "id": "cbaf082d-2174-4d64-9642-e3b6dc07696e",
   "metadata": {},
   "source": [
    "##### Exploratory Analysis\n",
    "\n",
    "We want to explore how the data looks, clean it up and get it ready for analysis"
   ]
  },
  {
   "cell_type": "code",
   "execution_count": 8,
   "id": "0273d381-4ca2-47de-bb11-f853d7d1ea82",
   "metadata": {},
   "outputs": [
    {
     "data": {
      "text/plain": [
       "(6384, 8)"
      ]
     },
     "execution_count": 8,
     "metadata": {},
     "output_type": "execute_result"
    }
   ],
   "source": [
    "df.shape"
   ]
  },
  {
   "cell_type": "code",
   "execution_count": 9,
   "id": "de62e68b-0f18-4607-9429-66ef3ee19b0b",
   "metadata": {},
   "outputs": [
    {
     "data": {
      "text/plain": [
       "Index(['indicator', 'country', 'countryiso3code', 'date', 'value', 'unit',\n",
       "       'obs_status', 'decimal'],\n",
       "      dtype='object')"
      ]
     },
     "execution_count": 9,
     "metadata": {},
     "output_type": "execute_result"
    }
   ],
   "source": [
    "df.columns"
   ]
  },
  {
   "cell_type": "code",
   "execution_count": 10,
   "id": "52bb69b6-d853-4f19-9369-4b2ccdc30e79",
   "metadata": {},
   "outputs": [
    {
     "data": {
      "text/html": [
       "<div>\n",
       "<style scoped>\n",
       "    .dataframe tbody tr th:only-of-type {\n",
       "        vertical-align: middle;\n",
       "    }\n",
       "\n",
       "    .dataframe tbody tr th {\n",
       "        vertical-align: top;\n",
       "    }\n",
       "\n",
       "    .dataframe thead th {\n",
       "        text-align: right;\n",
       "    }\n",
       "</style>\n",
       "<table border=\"1\" class=\"dataframe\">\n",
       "  <thead>\n",
       "    <tr style=\"text-align: right;\">\n",
       "      <th></th>\n",
       "      <th>indicator</th>\n",
       "      <th>country</th>\n",
       "      <th>countryiso3code</th>\n",
       "      <th>date</th>\n",
       "      <th>value</th>\n",
       "      <th>unit</th>\n",
       "      <th>obs_status</th>\n",
       "      <th>decimal</th>\n",
       "    </tr>\n",
       "  </thead>\n",
       "  <tbody>\n",
       "    <tr>\n",
       "      <th>0</th>\n",
       "      <td>{'id': 'SE.ADT.LITR.FE.ZS', 'value': 'Literacy...</td>\n",
       "      <td>{'id': 'ZH', 'value': 'Africa Eastern and Sout...</td>\n",
       "      <td>AFE</td>\n",
       "      <td>2023</td>\n",
       "      <td>NaN</td>\n",
       "      <td></td>\n",
       "      <td></td>\n",
       "      <td>0</td>\n",
       "    </tr>\n",
       "    <tr>\n",
       "      <th>1</th>\n",
       "      <td>{'id': 'SE.ADT.LITR.FE.ZS', 'value': 'Literacy...</td>\n",
       "      <td>{'id': 'ZH', 'value': 'Africa Eastern and Sout...</td>\n",
       "      <td>AFE</td>\n",
       "      <td>2022</td>\n",
       "      <td>67.545410</td>\n",
       "      <td></td>\n",
       "      <td></td>\n",
       "      <td>0</td>\n",
       "    </tr>\n",
       "    <tr>\n",
       "      <th>2</th>\n",
       "      <td>{'id': 'SE.ADT.LITR.FE.ZS', 'value': 'Literacy...</td>\n",
       "      <td>{'id': 'ZH', 'value': 'Africa Eastern and Sout...</td>\n",
       "      <td>AFE</td>\n",
       "      <td>2021</td>\n",
       "      <td>67.454010</td>\n",
       "      <td></td>\n",
       "      <td></td>\n",
       "      <td>0</td>\n",
       "    </tr>\n",
       "    <tr>\n",
       "      <th>3</th>\n",
       "      <td>{'id': 'SE.ADT.LITR.FE.ZS', 'value': 'Literacy...</td>\n",
       "      <td>{'id': 'ZH', 'value': 'Africa Eastern and Sout...</td>\n",
       "      <td>AFE</td>\n",
       "      <td>2020</td>\n",
       "      <td>67.536987</td>\n",
       "      <td></td>\n",
       "      <td></td>\n",
       "      <td>0</td>\n",
       "    </tr>\n",
       "    <tr>\n",
       "      <th>4</th>\n",
       "      <td>{'id': 'SE.ADT.LITR.FE.ZS', 'value': 'Literacy...</td>\n",
       "      <td>{'id': 'ZH', 'value': 'Africa Eastern and Sout...</td>\n",
       "      <td>AFE</td>\n",
       "      <td>2019</td>\n",
       "      <td>67.289780</td>\n",
       "      <td></td>\n",
       "      <td></td>\n",
       "      <td>0</td>\n",
       "    </tr>\n",
       "  </tbody>\n",
       "</table>\n",
       "</div>"
      ],
      "text/plain": [
       "                                           indicator  \\\n",
       "0  {'id': 'SE.ADT.LITR.FE.ZS', 'value': 'Literacy...   \n",
       "1  {'id': 'SE.ADT.LITR.FE.ZS', 'value': 'Literacy...   \n",
       "2  {'id': 'SE.ADT.LITR.FE.ZS', 'value': 'Literacy...   \n",
       "3  {'id': 'SE.ADT.LITR.FE.ZS', 'value': 'Literacy...   \n",
       "4  {'id': 'SE.ADT.LITR.FE.ZS', 'value': 'Literacy...   \n",
       "\n",
       "                                             country countryiso3code  date  \\\n",
       "0  {'id': 'ZH', 'value': 'Africa Eastern and Sout...             AFE  2023   \n",
       "1  {'id': 'ZH', 'value': 'Africa Eastern and Sout...             AFE  2022   \n",
       "2  {'id': 'ZH', 'value': 'Africa Eastern and Sout...             AFE  2021   \n",
       "3  {'id': 'ZH', 'value': 'Africa Eastern and Sout...             AFE  2020   \n",
       "4  {'id': 'ZH', 'value': 'Africa Eastern and Sout...             AFE  2019   \n",
       "\n",
       "       value unit obs_status  decimal  \n",
       "0        NaN                        0  \n",
       "1  67.545410                        0  \n",
       "2  67.454010                        0  \n",
       "3  67.536987                        0  \n",
       "4  67.289780                        0  "
      ]
     },
     "execution_count": 10,
     "metadata": {},
     "output_type": "execute_result"
    }
   ],
   "source": [
    "df.head()"
   ]
  },
  {
   "cell_type": "markdown",
   "id": "ba1abdc5-4253-44f3-9594-ad5ec749eead",
   "metadata": {},
   "source": [
    "First I am exploring the fields of the *indicator* column"
   ]
  },
  {
   "cell_type": "code",
   "execution_count": 11,
   "id": "bb3e37b0-f838-4d02-95c7-818a7e4815e9",
   "metadata": {},
   "outputs": [
    {
     "data": {
      "text/plain": [
       "{'id': 'SE.ADT.LITR.FE.ZS',\n",
       " 'value': 'Literacy rate, adult female (% of females ages 15 and above)'}"
      ]
     },
     "execution_count": 11,
     "metadata": {},
     "output_type": "execute_result"
    }
   ],
   "source": [
    "df['indicator'][0]"
   ]
  },
  {
   "cell_type": "code",
   "execution_count": 12,
   "id": "0909ba90-a9db-4c1b-b9dc-46500a411aee",
   "metadata": {},
   "outputs": [
    {
     "data": {
      "text/plain": [
       "'SE.ADT.LITR.FE.ZS'"
      ]
     },
     "execution_count": 12,
     "metadata": {},
     "output_type": "execute_result"
    }
   ],
   "source": [
    "df['indicator'][0]['id']"
   ]
  },
  {
   "cell_type": "code",
   "execution_count": 13,
   "id": "ba825dcd-9aaa-44e1-9103-bc09ea504f52",
   "metadata": {},
   "outputs": [
    {
     "data": {
      "text/plain": [
       "{'id': 'SE.ADT.LITR.FE.ZS',\n",
       " 'value': 'Literacy rate, adult female (% of females ages 15 and above)'}"
      ]
     },
     "execution_count": 13,
     "metadata": {},
     "output_type": "execute_result"
    }
   ],
   "source": [
    "df['indicator'][6300]"
   ]
  },
  {
   "cell_type": "markdown",
   "id": "a269fdf8-3d74-428e-a2c9-dc6e737e0eb1",
   "metadata": {},
   "source": [
    "**Process notes**: They might all be the same? I will extract the ids and values into a separate column each"
   ]
  },
  {
   "cell_type": "code",
   "execution_count": 14,
   "id": "c6a6b211-75a3-46bd-a736-61411fb4c265",
   "metadata": {},
   "outputs": [],
   "source": [
    "# Place the indicator id in a separate column for detailed examination\n",
    "\n",
    "df['indicator_id'] = df['indicator'].apply(lambda x: x['id'])"
   ]
  },
  {
   "cell_type": "code",
   "execution_count": 15,
   "id": "4e1f4a98-9584-4519-8a10-11702d87c13d",
   "metadata": {},
   "outputs": [
    {
     "data": {
      "text/plain": [
       "array(['SE.ADT.LITR.FE.ZS'], dtype=object)"
      ]
     },
     "execution_count": 15,
     "metadata": {},
     "output_type": "execute_result"
    }
   ],
   "source": [
    "df['indicator_id'].unique() # It seems like this is not of much help - it's just the data code"
   ]
  },
  {
   "cell_type": "code",
   "execution_count": 16,
   "id": "8d96241c-73be-42ce-8b4b-c7dc2509b117",
   "metadata": {},
   "outputs": [],
   "source": [
    "# Place the indicator value in a separate column for detailed examination\n",
    "\n",
    "df['indicator_val'] = df['indicator'].apply(lambda x: x['value'])"
   ]
  },
  {
   "cell_type": "code",
   "execution_count": 17,
   "id": "f375513e-0d9f-4b91-81f0-8cbe18626fa3",
   "metadata": {},
   "outputs": [
    {
     "data": {
      "text/plain": [
       "array(['Literacy rate, adult female (% of females ages 15 and above)'],\n",
       "      dtype=object)"
      ]
     },
     "execution_count": 17,
     "metadata": {},
     "output_type": "execute_result"
    }
   ],
   "source": [
    "df['indicator_val'].unique() # same for this - not so relevant"
   ]
  },
  {
   "cell_type": "markdown",
   "id": "35c6e8f4-7a0e-4d5a-b1e2-92affaec3b5b",
   "metadata": {},
   "source": [
    "**Process notes**: I decided to drop the indicator column and its derived columns as they're not relevant for the purposes of extracting this data"
   ]
  },
  {
   "cell_type": "code",
   "execution_count": 18,
   "id": "a4a56ab9-f176-468f-a4d8-bcafbc0c770e",
   "metadata": {},
   "outputs": [],
   "source": [
    "df.drop(columns=['indicator', 'indicator_id', 'indicator_val'], inplace=True)"
   ]
  },
  {
   "cell_type": "code",
   "execution_count": 19,
   "id": "ed82db20-c7e2-48df-a3c2-9af123644bf8",
   "metadata": {},
   "outputs": [
    {
     "data": {
      "text/plain": [
       "Index(['country', 'countryiso3code', 'date', 'value', 'unit', 'obs_status',\n",
       "       'decimal'],\n",
       "      dtype='object')"
      ]
     },
     "execution_count": 19,
     "metadata": {},
     "output_type": "execute_result"
    }
   ],
   "source": [
    "df.columns"
   ]
  },
  {
   "cell_type": "markdown",
   "id": "5fc4ce68-437d-4b60-8827-47b23d271ca4",
   "metadata": {},
   "source": [
    "**Process notes**: Now, I'll explore the country column"
   ]
  },
  {
   "cell_type": "code",
   "execution_count": 20,
   "id": "cae02e81-399f-417c-b1ec-37ab552b7254",
   "metadata": {},
   "outputs": [
    {
     "data": {
      "text/plain": [
       "{'id': 'ZH', 'value': 'Africa Eastern and Southern'}"
      ]
     },
     "execution_count": 20,
     "metadata": {},
     "output_type": "execute_result"
    }
   ],
   "source": [
    "df['country'][0]"
   ]
  },
  {
   "cell_type": "code",
   "execution_count": 21,
   "id": "9c51df8f-6bfb-403a-b07c-baa516ce6d85",
   "metadata": {},
   "outputs": [],
   "source": [
    "df['country_id'] = df['country'].apply(lambda x: x['id'])"
   ]
  },
  {
   "cell_type": "code",
   "execution_count": 22,
   "id": "8f915cf4-cfcf-4bf0-9f29-f7ab2baf742d",
   "metadata": {},
   "outputs": [],
   "source": [
    "df['country_val'] = df['country'].apply(lambda x: x['value'])"
   ]
  },
  {
   "cell_type": "code",
   "execution_count": 23,
   "id": "57142141-5b80-4141-8bb3-55e9aa995fd8",
   "metadata": {},
   "outputs": [
    {
     "data": {
      "text/plain": [
       "array(['ZH', 'ZI', '1A', 'S3', 'B8', 'V2', 'Z4', '4E', 'T4', 'XC', 'Z7',\n",
       "       '7E', 'T7', 'EU', 'F1', 'XE', 'XD', 'XF', 'ZT', 'XH', 'XI', 'XG',\n",
       "       'V3', 'ZJ', 'XJ', 'T2', 'XL', 'XO', 'XM', 'XN', 'ZQ', 'XQ', 'T3',\n",
       "       'XP', 'XU', 'XY', 'OE', 'S4', 'S2', 'V4', 'V1', 'S1', '8S', 'T5',\n",
       "       'ZG', 'ZF', 'T6', 'XT', '1W', 'AF', 'AL', 'DZ', 'AS', 'AD', 'AO',\n",
       "       'AG', 'AR', 'AM', 'AW', 'AU', 'AT', 'AZ', 'BS', 'BH', 'BD', 'BB',\n",
       "       'BY', 'BE', 'BZ', 'BJ', 'BM', 'BT', 'BO', 'BA', 'BW', 'BR', 'VG',\n",
       "       'BN', 'BG', 'BF', 'BI', 'CV', 'KH', 'CM', 'CA', 'KY', 'CF', 'TD',\n",
       "       'JG', 'CL', 'CN', 'CO', 'KM', 'CD', 'CG', 'CR', 'CI', 'HR', 'CU',\n",
       "       'CW', 'CY', 'CZ', 'DK', 'DJ', 'DM', 'DO', 'EC', 'EG', 'SV', 'GQ',\n",
       "       'ER', 'EE', 'SZ', 'ET', 'FO', 'FJ', 'FI', 'FR', 'PF', 'GA', 'GM',\n",
       "       'GE', 'DE', 'GH', 'GI', 'GR', 'GL', 'GD', 'GU', 'GT', 'GN', 'GW',\n",
       "       'GY', 'HT', 'HN', 'HK', 'HU', 'IS', 'IN', 'ID', 'IR', 'IQ', 'IE',\n",
       "       'IM', 'IL', 'IT', 'JM', 'JP', 'JO', 'KZ', 'KE', 'KI', 'KP', 'KR',\n",
       "       'XK', 'KW', 'KG', 'LA', 'LV', 'LB', 'LS', 'LR', 'LY', 'LI', 'LT',\n",
       "       'LU', 'MO', 'MG', 'MW', 'MY', 'MV', 'ML', 'MT', 'MH', 'MR', 'MU',\n",
       "       'MX', 'FM', 'MD', 'MC', 'MN', 'ME', 'MA', 'MZ', 'MM', 'NA', 'NR',\n",
       "       'NP', 'NL', 'NC', 'NZ', 'NI', 'NE', 'NG', 'MK', 'MP', 'NO', 'OM',\n",
       "       'PK', 'PW', 'PA', 'PG', 'PY', 'PE', 'PH', 'PL', 'PT', 'PR', 'QA',\n",
       "       'RO', 'RU', 'RW', 'WS', 'SM', 'ST', 'SA', 'SN', 'RS', 'SC', 'SL',\n",
       "       'SG', 'SX', 'SK', 'SI', 'SB', 'SO', 'ZA', 'SS', 'ES', 'LK', 'KN',\n",
       "       'LC', 'MF', 'VC', 'SD', 'SR', 'SE', 'CH', 'SY', 'TJ', 'TZ', 'TH',\n",
       "       'TL', 'TG', 'TO', 'TT', 'TN', 'TR', 'TM', 'TC', 'TV', 'UG', 'UA',\n",
       "       'AE', 'GB', 'US', 'UY', 'UZ', 'VU', 'VE', 'VN', 'VI', 'PS', 'YE',\n",
       "       'ZM', 'ZW'], dtype=object)"
      ]
     },
     "execution_count": 23,
     "metadata": {},
     "output_type": "execute_result"
    }
   ],
   "source": [
    "df['country_id'].unique()"
   ]
  },
  {
   "cell_type": "code",
   "execution_count": 24,
   "id": "490ccc77-68fb-482e-8e98-a6655026b201",
   "metadata": {},
   "outputs": [
    {
     "data": {
      "text/plain": [
       "array(['Africa Eastern and Southern', 'Africa Western and Central',\n",
       "       'Arab World', 'Caribbean small states',\n",
       "       'Central Europe and the Baltics', 'Early-demographic dividend',\n",
       "       'East Asia & Pacific',\n",
       "       'East Asia & Pacific (excluding high income)',\n",
       "       'East Asia & Pacific (IDA & IBRD countries)', 'Euro area',\n",
       "       'Europe & Central Asia',\n",
       "       'Europe & Central Asia (excluding high income)',\n",
       "       'Europe & Central Asia (IDA & IBRD countries)', 'European Union',\n",
       "       'Fragile and conflict affected situations',\n",
       "       'Heavily indebted poor countries (HIPC)', 'High income',\n",
       "       'IBRD only', 'IDA & IBRD total', 'IDA blend', 'IDA only',\n",
       "       'IDA total', 'Late-demographic dividend',\n",
       "       'Latin America & Caribbean',\n",
       "       'Latin America & Caribbean (excluding high income)',\n",
       "       'Latin America & the Caribbean (IDA & IBRD countries)',\n",
       "       'Least developed countries: UN classification',\n",
       "       'Low & middle income', 'Low income', 'Lower middle income',\n",
       "       'Middle East & North Africa',\n",
       "       'Middle East & North Africa (excluding high income)',\n",
       "       'Middle East & North Africa (IDA & IBRD countries)',\n",
       "       'Middle income', 'North America', 'Not classified', 'OECD members',\n",
       "       'Other small states', 'Pacific island small states',\n",
       "       'Post-demographic dividend', 'Pre-demographic dividend',\n",
       "       'Small states', 'South Asia', 'South Asia (IDA & IBRD)',\n",
       "       'Sub-Saharan Africa', 'Sub-Saharan Africa (excluding high income)',\n",
       "       'Sub-Saharan Africa (IDA & IBRD countries)', 'Upper middle income',\n",
       "       'World', 'Afghanistan', 'Albania', 'Algeria', 'American Samoa',\n",
       "       'Andorra', 'Angola', 'Antigua and Barbuda', 'Argentina', 'Armenia',\n",
       "       'Aruba', 'Australia', 'Austria', 'Azerbaijan', 'Bahamas, The',\n",
       "       'Bahrain', 'Bangladesh', 'Barbados', 'Belarus', 'Belgium',\n",
       "       'Belize', 'Benin', 'Bermuda', 'Bhutan', 'Bolivia',\n",
       "       'Bosnia and Herzegovina', 'Botswana', 'Brazil',\n",
       "       'British Virgin Islands', 'Brunei Darussalam', 'Bulgaria',\n",
       "       'Burkina Faso', 'Burundi', 'Cabo Verde', 'Cambodia', 'Cameroon',\n",
       "       'Canada', 'Cayman Islands', 'Central African Republic', 'Chad',\n",
       "       'Channel Islands', 'Chile', 'China', 'Colombia', 'Comoros',\n",
       "       'Congo, Dem. Rep.', 'Congo, Rep.', 'Costa Rica', \"Cote d'Ivoire\",\n",
       "       'Croatia', 'Cuba', 'Curacao', 'Cyprus', 'Czechia', 'Denmark',\n",
       "       'Djibouti', 'Dominica', 'Dominican Republic', 'Ecuador',\n",
       "       'Egypt, Arab Rep.', 'El Salvador', 'Equatorial Guinea', 'Eritrea',\n",
       "       'Estonia', 'Eswatini', 'Ethiopia', 'Faroe Islands', 'Fiji',\n",
       "       'Finland', 'France', 'French Polynesia', 'Gabon', 'Gambia, The',\n",
       "       'Georgia', 'Germany', 'Ghana', 'Gibraltar', 'Greece', 'Greenland',\n",
       "       'Grenada', 'Guam', 'Guatemala', 'Guinea', 'Guinea-Bissau',\n",
       "       'Guyana', 'Haiti', 'Honduras', 'Hong Kong SAR, China', 'Hungary',\n",
       "       'Iceland', 'India', 'Indonesia', 'Iran, Islamic Rep.', 'Iraq',\n",
       "       'Ireland', 'Isle of Man', 'Israel', 'Italy', 'Jamaica', 'Japan',\n",
       "       'Jordan', 'Kazakhstan', 'Kenya', 'Kiribati',\n",
       "       \"Korea, Dem. People's Rep.\", 'Korea, Rep.', 'Kosovo', 'Kuwait',\n",
       "       'Kyrgyz Republic', 'Lao PDR', 'Latvia', 'Lebanon', 'Lesotho',\n",
       "       'Liberia', 'Libya', 'Liechtenstein', 'Lithuania', 'Luxembourg',\n",
       "       'Macao SAR, China', 'Madagascar', 'Malawi', 'Malaysia', 'Maldives',\n",
       "       'Mali', 'Malta', 'Marshall Islands', 'Mauritania', 'Mauritius',\n",
       "       'Mexico', 'Micronesia, Fed. Sts.', 'Moldova', 'Monaco', 'Mongolia',\n",
       "       'Montenegro', 'Morocco', 'Mozambique', 'Myanmar', 'Namibia',\n",
       "       'Nauru', 'Nepal', 'Netherlands', 'New Caledonia', 'New Zealand',\n",
       "       'Nicaragua', 'Niger', 'Nigeria', 'North Macedonia',\n",
       "       'Northern Mariana Islands', 'Norway', 'Oman', 'Pakistan', 'Palau',\n",
       "       'Panama', 'Papua New Guinea', 'Paraguay', 'Peru', 'Philippines',\n",
       "       'Poland', 'Portugal', 'Puerto Rico', 'Qatar', 'Romania',\n",
       "       'Russian Federation', 'Rwanda', 'Samoa', 'San Marino',\n",
       "       'Sao Tome and Principe', 'Saudi Arabia', 'Senegal', 'Serbia',\n",
       "       'Seychelles', 'Sierra Leone', 'Singapore',\n",
       "       'Sint Maarten (Dutch part)', 'Slovak Republic', 'Slovenia',\n",
       "       'Solomon Islands', 'Somalia', 'South Africa', 'South Sudan',\n",
       "       'Spain', 'Sri Lanka', 'St. Kitts and Nevis', 'St. Lucia',\n",
       "       'St. Martin (French part)', 'St. Vincent and the Grenadines',\n",
       "       'Sudan', 'Suriname', 'Sweden', 'Switzerland',\n",
       "       'Syrian Arab Republic', 'Tajikistan', 'Tanzania', 'Thailand',\n",
       "       'Timor-Leste', 'Togo', 'Tonga', 'Trinidad and Tobago', 'Tunisia',\n",
       "       'Turkiye', 'Turkmenistan', 'Turks and Caicos Islands', 'Tuvalu',\n",
       "       'Uganda', 'Ukraine', 'United Arab Emirates', 'United Kingdom',\n",
       "       'United States', 'Uruguay', 'Uzbekistan', 'Vanuatu',\n",
       "       'Venezuela, RB', 'Viet Nam', 'Virgin Islands (U.S.)',\n",
       "       'West Bank and Gaza', 'Yemen, Rep.', 'Zambia', 'Zimbabwe'],\n",
       "      dtype=object)"
      ]
     },
     "execution_count": 24,
     "metadata": {},
     "output_type": "execute_result"
    }
   ],
   "source": [
    "df['country_val'].unique()"
   ]
  },
  {
   "cell_type": "markdown",
   "id": "7b6ac774-861c-4981-8662-25dc80d808f2",
   "metadata": {},
   "source": [
    "**Process notes**: This data is very relevant! I will clean it up more as I am focusing my analysis on the LATAM region. I am going to create a mask so I only get the information for the countries I care about. Since this also mentions regions, I will also extract the relevant ones."
   ]
  },
  {
   "cell_type": "code",
   "execution_count": 25,
   "id": "f146953d-0ce6-45a2-bad2-23da9aebc8bd",
   "metadata": {},
   "outputs": [],
   "source": [
    "latam_countries = [\n",
    "    'Mexico', 'Colombia', 'Venezuela', 'Panama', 'Honduras', \n",
    "    'Nicaragua','El Salvador','Costa Rica', 'Belize', 'Guatemala', \n",
    "    'Argentina', 'Bolivia','Brazil', 'Chile', 'Cuba', \n",
    "    'Dominican Republic', 'Ecuador', 'Paraguay', 'Peru', 'Uruguay']"
   ]
  },
  {
   "cell_type": "code",
   "execution_count": 26,
   "id": "293b004e-30da-4397-af82-2b67a804e5bd",
   "metadata": {},
   "outputs": [],
   "source": [
    "latam_regions = [\n",
    "    'Latin America & Caribbean',\n",
    "    'Latin America & Caribbean (excluding high income)',\n",
    "    'Latin America & the Caribbean (IDA & IBRD countries)']"
   ]
  },
  {
   "cell_type": "code",
   "execution_count": 27,
   "id": "17191c61-471a-42a5-841f-b8f5a56592b8",
   "metadata": {},
   "outputs": [],
   "source": [
    "latam_all = [\n",
    "    'Mexico', 'Colombia', 'Venezuela', 'Panama', 'Honduras', \n",
    "    'Nicaragua','El Salvador','Costa Rica', 'Belize', 'Guatemala', \n",
    "    'Argentina', 'Bolivia','Brazil', 'Chile', 'Cuba', \n",
    "    'Dominican Republic', 'Ecuador', 'Paraguay', 'Peru', 'Uruguay',\n",
    "    'Latin America & Caribbean',\n",
    "    'Latin America & Caribbean (excluding high income)',\n",
    "    'Latin America & the Caribbean (IDA & IBRD countries)']"
   ]
  },
  {
   "cell_type": "code",
   "execution_count": 28,
   "id": "9bb43a42-6d41-41f1-b7b0-fddee2adb6ce",
   "metadata": {},
   "outputs": [],
   "source": [
    "countries_mask = df['country_val'].isin(latam_countries)"
   ]
  },
  {
   "cell_type": "code",
   "execution_count": 29,
   "id": "d8433eb5-e467-481c-a4fc-b3d8602d6cd2",
   "metadata": {},
   "outputs": [],
   "source": [
    "regions_mask = df['country_val'].isin(latam_regions)"
   ]
  },
  {
   "cell_type": "code",
   "execution_count": 30,
   "id": "6c753b28-5bfb-430e-b84a-7d03777b99ed",
   "metadata": {},
   "outputs": [],
   "source": [
    "all_mask = df['country_val'].isin(latam_all)"
   ]
  },
  {
   "cell_type": "code",
   "execution_count": 31,
   "id": "ce329b9f-5683-4581-a16b-82b50fdf8c59",
   "metadata": {},
   "outputs": [
    {
     "data": {
      "text/html": [
       "<div>\n",
       "<style scoped>\n",
       "    .dataframe tbody tr th:only-of-type {\n",
       "        vertical-align: middle;\n",
       "    }\n",
       "\n",
       "    .dataframe tbody tr th {\n",
       "        vertical-align: top;\n",
       "    }\n",
       "\n",
       "    .dataframe thead th {\n",
       "        text-align: right;\n",
       "    }\n",
       "</style>\n",
       "<table border=\"1\" class=\"dataframe\">\n",
       "  <thead>\n",
       "    <tr style=\"text-align: right;\">\n",
       "      <th></th>\n",
       "      <th>country</th>\n",
       "      <th>countryiso3code</th>\n",
       "      <th>date</th>\n",
       "      <th>value</th>\n",
       "      <th>unit</th>\n",
       "      <th>obs_status</th>\n",
       "      <th>decimal</th>\n",
       "      <th>country_id</th>\n",
       "      <th>country_val</th>\n",
       "    </tr>\n",
       "  </thead>\n",
       "  <tbody>\n",
       "    <tr>\n",
       "      <th>1344</th>\n",
       "      <td>{'id': 'AR', 'value': 'Argentina'}</td>\n",
       "      <td>ARG</td>\n",
       "      <td>2023</td>\n",
       "      <td>NaN</td>\n",
       "      <td></td>\n",
       "      <td></td>\n",
       "      <td>0</td>\n",
       "      <td>AR</td>\n",
       "      <td>Argentina</td>\n",
       "    </tr>\n",
       "    <tr>\n",
       "      <th>1345</th>\n",
       "      <td>{'id': 'AR', 'value': 'Argentina'}</td>\n",
       "      <td>ARG</td>\n",
       "      <td>2022</td>\n",
       "      <td>NaN</td>\n",
       "      <td></td>\n",
       "      <td></td>\n",
       "      <td>0</td>\n",
       "      <td>AR</td>\n",
       "      <td>Argentina</td>\n",
       "    </tr>\n",
       "    <tr>\n",
       "      <th>1346</th>\n",
       "      <td>{'id': 'AR', 'value': 'Argentina'}</td>\n",
       "      <td>ARG</td>\n",
       "      <td>2021</td>\n",
       "      <td>NaN</td>\n",
       "      <td></td>\n",
       "      <td></td>\n",
       "      <td>0</td>\n",
       "      <td>AR</td>\n",
       "      <td>Argentina</td>\n",
       "    </tr>\n",
       "    <tr>\n",
       "      <th>1347</th>\n",
       "      <td>{'id': 'AR', 'value': 'Argentina'}</td>\n",
       "      <td>ARG</td>\n",
       "      <td>2020</td>\n",
       "      <td>NaN</td>\n",
       "      <td></td>\n",
       "      <td></td>\n",
       "      <td>0</td>\n",
       "      <td>AR</td>\n",
       "      <td>Argentina</td>\n",
       "    </tr>\n",
       "    <tr>\n",
       "      <th>1348</th>\n",
       "      <td>{'id': 'AR', 'value': 'Argentina'}</td>\n",
       "      <td>ARG</td>\n",
       "      <td>2019</td>\n",
       "      <td>NaN</td>\n",
       "      <td></td>\n",
       "      <td></td>\n",
       "      <td>0</td>\n",
       "      <td>AR</td>\n",
       "      <td>Argentina</td>\n",
       "    </tr>\n",
       "    <tr>\n",
       "      <th>...</th>\n",
       "      <td>...</td>\n",
       "      <td>...</td>\n",
       "      <td>...</td>\n",
       "      <td>...</td>\n",
       "      <td>...</td>\n",
       "      <td>...</td>\n",
       "      <td>...</td>\n",
       "      <td>...</td>\n",
       "      <td>...</td>\n",
       "    </tr>\n",
       "    <tr>\n",
       "      <th>6163</th>\n",
       "      <td>{'id': 'UY', 'value': 'Uruguay'}</td>\n",
       "      <td>URY</td>\n",
       "      <td>2004</td>\n",
       "      <td>NaN</td>\n",
       "      <td></td>\n",
       "      <td></td>\n",
       "      <td>0</td>\n",
       "      <td>UY</td>\n",
       "      <td>Uruguay</td>\n",
       "    </tr>\n",
       "    <tr>\n",
       "      <th>6164</th>\n",
       "      <td>{'id': 'UY', 'value': 'Uruguay'}</td>\n",
       "      <td>URY</td>\n",
       "      <td>2003</td>\n",
       "      <td>NaN</td>\n",
       "      <td></td>\n",
       "      <td></td>\n",
       "      <td>0</td>\n",
       "      <td>UY</td>\n",
       "      <td>Uruguay</td>\n",
       "    </tr>\n",
       "    <tr>\n",
       "      <th>6165</th>\n",
       "      <td>{'id': 'UY', 'value': 'Uruguay'}</td>\n",
       "      <td>URY</td>\n",
       "      <td>2002</td>\n",
       "      <td>NaN</td>\n",
       "      <td></td>\n",
       "      <td></td>\n",
       "      <td>0</td>\n",
       "      <td>UY</td>\n",
       "      <td>Uruguay</td>\n",
       "    </tr>\n",
       "    <tr>\n",
       "      <th>6166</th>\n",
       "      <td>{'id': 'UY', 'value': 'Uruguay'}</td>\n",
       "      <td>URY</td>\n",
       "      <td>2001</td>\n",
       "      <td>NaN</td>\n",
       "      <td></td>\n",
       "      <td></td>\n",
       "      <td>0</td>\n",
       "      <td>UY</td>\n",
       "      <td>Uruguay</td>\n",
       "    </tr>\n",
       "    <tr>\n",
       "      <th>6167</th>\n",
       "      <td>{'id': 'UY', 'value': 'Uruguay'}</td>\n",
       "      <td>URY</td>\n",
       "      <td>2000</td>\n",
       "      <td>NaN</td>\n",
       "      <td></td>\n",
       "      <td></td>\n",
       "      <td>0</td>\n",
       "      <td>UY</td>\n",
       "      <td>Uruguay</td>\n",
       "    </tr>\n",
       "  </tbody>\n",
       "</table>\n",
       "<p>456 rows × 9 columns</p>\n",
       "</div>"
      ],
      "text/plain": [
       "                                 country countryiso3code  date  value unit  \\\n",
       "1344  {'id': 'AR', 'value': 'Argentina'}             ARG  2023    NaN        \n",
       "1345  {'id': 'AR', 'value': 'Argentina'}             ARG  2022    NaN        \n",
       "1346  {'id': 'AR', 'value': 'Argentina'}             ARG  2021    NaN        \n",
       "1347  {'id': 'AR', 'value': 'Argentina'}             ARG  2020    NaN        \n",
       "1348  {'id': 'AR', 'value': 'Argentina'}             ARG  2019    NaN        \n",
       "...                                  ...             ...   ...    ...  ...   \n",
       "6163    {'id': 'UY', 'value': 'Uruguay'}             URY  2004    NaN        \n",
       "6164    {'id': 'UY', 'value': 'Uruguay'}             URY  2003    NaN        \n",
       "6165    {'id': 'UY', 'value': 'Uruguay'}             URY  2002    NaN        \n",
       "6166    {'id': 'UY', 'value': 'Uruguay'}             URY  2001    NaN        \n",
       "6167    {'id': 'UY', 'value': 'Uruguay'}             URY  2000    NaN        \n",
       "\n",
       "     obs_status  decimal country_id country_val  \n",
       "1344                   0         AR   Argentina  \n",
       "1345                   0         AR   Argentina  \n",
       "1346                   0         AR   Argentina  \n",
       "1347                   0         AR   Argentina  \n",
       "1348                   0         AR   Argentina  \n",
       "...         ...      ...        ...         ...  \n",
       "6163                   0         UY     Uruguay  \n",
       "6164                   0         UY     Uruguay  \n",
       "6165                   0         UY     Uruguay  \n",
       "6166                   0         UY     Uruguay  \n",
       "6167                   0         UY     Uruguay  \n",
       "\n",
       "[456 rows x 9 columns]"
      ]
     },
     "execution_count": 31,
     "metadata": {},
     "output_type": "execute_result"
    }
   ],
   "source": [
    "# df cleaned by latam countries\n",
    "\n",
    "countries_df = df[countries_mask]\n",
    "countries_df"
   ]
  },
  {
   "cell_type": "markdown",
   "id": "ff988c93-ae29-45dd-b77c-97c9f770cb6f",
   "metadata": {},
   "source": [
    "**Process notes**: I am noticing lots of null values in the value column, which are important values, I am going to try to check if there are any non null values there."
   ]
  },
  {
   "cell_type": "code",
   "execution_count": 32,
   "id": "f2069f8b-e5d9-4755-b213-0aacc0e5d2cd",
   "metadata": {},
   "outputs": [
    {
     "data": {
      "text/html": [
       "<div>\n",
       "<style scoped>\n",
       "    .dataframe tbody tr th:only-of-type {\n",
       "        vertical-align: middle;\n",
       "    }\n",
       "\n",
       "    .dataframe tbody tr th {\n",
       "        vertical-align: top;\n",
       "    }\n",
       "\n",
       "    .dataframe thead th {\n",
       "        text-align: right;\n",
       "    }\n",
       "</style>\n",
       "<table border=\"1\" class=\"dataframe\">\n",
       "  <thead>\n",
       "    <tr style=\"text-align: right;\">\n",
       "      <th></th>\n",
       "      <th>country</th>\n",
       "      <th>countryiso3code</th>\n",
       "      <th>date</th>\n",
       "      <th>value</th>\n",
       "      <th>unit</th>\n",
       "      <th>obs_status</th>\n",
       "      <th>decimal</th>\n",
       "      <th>country_id</th>\n",
       "      <th>country_val</th>\n",
       "    </tr>\n",
       "  </thead>\n",
       "  <tbody>\n",
       "    <tr>\n",
       "      <th>1366</th>\n",
       "      <td>{'id': 'AR', 'value': 'Argentina'}</td>\n",
       "      <td>ARG</td>\n",
       "      <td>2001</td>\n",
       "      <td>97.193413</td>\n",
       "      <td></td>\n",
       "      <td></td>\n",
       "      <td>0</td>\n",
       "      <td>AR</td>\n",
       "      <td>Argentina</td>\n",
       "    </tr>\n",
       "    <tr>\n",
       "      <th>1654</th>\n",
       "      <td>{'id': 'BZ', 'value': 'Belize'}</td>\n",
       "      <td>BLZ</td>\n",
       "      <td>2001</td>\n",
       "      <td>81.300003</td>\n",
       "      <td></td>\n",
       "      <td></td>\n",
       "      <td>0</td>\n",
       "      <td>BZ</td>\n",
       "      <td>Belize</td>\n",
       "    </tr>\n",
       "    <tr>\n",
       "      <th>1731</th>\n",
       "      <td>{'id': 'BO', 'value': 'Bolivia'}</td>\n",
       "      <td>BOL</td>\n",
       "      <td>2020</td>\n",
       "      <td>90.502586</td>\n",
       "      <td></td>\n",
       "      <td></td>\n",
       "      <td>0</td>\n",
       "      <td>BO</td>\n",
       "      <td>Bolivia</td>\n",
       "    </tr>\n",
       "    <tr>\n",
       "      <th>1736</th>\n",
       "      <td>{'id': 'BO', 'value': 'Bolivia'}</td>\n",
       "      <td>BOL</td>\n",
       "      <td>2015</td>\n",
       "      <td>88.582863</td>\n",
       "      <td></td>\n",
       "      <td></td>\n",
       "      <td>0</td>\n",
       "      <td>BO</td>\n",
       "      <td>Bolivia</td>\n",
       "    </tr>\n",
       "    <tr>\n",
       "      <th>1739</th>\n",
       "      <td>{'id': 'BO', 'value': 'Bolivia'}</td>\n",
       "      <td>BOL</td>\n",
       "      <td>2012</td>\n",
       "      <td>91.873268</td>\n",
       "      <td></td>\n",
       "      <td></td>\n",
       "      <td>0</td>\n",
       "      <td>BO</td>\n",
       "      <td>Bolivia</td>\n",
       "    </tr>\n",
       "    <tr>\n",
       "      <th>...</th>\n",
       "      <td>...</td>\n",
       "      <td>...</td>\n",
       "      <td>...</td>\n",
       "      <td>...</td>\n",
       "      <td>...</td>\n",
       "      <td>...</td>\n",
       "      <td>...</td>\n",
       "      <td>...</td>\n",
       "      <td>...</td>\n",
       "    </tr>\n",
       "    <tr>\n",
       "      <th>6157</th>\n",
       "      <td>{'id': 'UY', 'value': 'Uruguay'}</td>\n",
       "      <td>URY</td>\n",
       "      <td>2010</td>\n",
       "      <td>98.490952</td>\n",
       "      <td></td>\n",
       "      <td></td>\n",
       "      <td>0</td>\n",
       "      <td>UY</td>\n",
       "      <td>Uruguay</td>\n",
       "    </tr>\n",
       "    <tr>\n",
       "      <th>6158</th>\n",
       "      <td>{'id': 'UY', 'value': 'Uruguay'}</td>\n",
       "      <td>URY</td>\n",
       "      <td>2009</td>\n",
       "      <td>98.533722</td>\n",
       "      <td></td>\n",
       "      <td></td>\n",
       "      <td>0</td>\n",
       "      <td>UY</td>\n",
       "      <td>Uruguay</td>\n",
       "    </tr>\n",
       "    <tr>\n",
       "      <th>6159</th>\n",
       "      <td>{'id': 'UY', 'value': 'Uruguay'}</td>\n",
       "      <td>URY</td>\n",
       "      <td>2008</td>\n",
       "      <td>98.463661</td>\n",
       "      <td></td>\n",
       "      <td></td>\n",
       "      <td>0</td>\n",
       "      <td>UY</td>\n",
       "      <td>Uruguay</td>\n",
       "    </tr>\n",
       "    <tr>\n",
       "      <th>6160</th>\n",
       "      <td>{'id': 'UY', 'value': 'Uruguay'}</td>\n",
       "      <td>URY</td>\n",
       "      <td>2007</td>\n",
       "      <td>98.241928</td>\n",
       "      <td></td>\n",
       "      <td></td>\n",
       "      <td>0</td>\n",
       "      <td>UY</td>\n",
       "      <td>Uruguay</td>\n",
       "    </tr>\n",
       "    <tr>\n",
       "      <th>6161</th>\n",
       "      <td>{'id': 'UY', 'value': 'Uruguay'}</td>\n",
       "      <td>URY</td>\n",
       "      <td>2006</td>\n",
       "      <td>98.084358</td>\n",
       "      <td></td>\n",
       "      <td></td>\n",
       "      <td>0</td>\n",
       "      <td>UY</td>\n",
       "      <td>Uruguay</td>\n",
       "    </tr>\n",
       "  </tbody>\n",
       "</table>\n",
       "<p>169 rows × 9 columns</p>\n",
       "</div>"
      ],
      "text/plain": [
       "                                 country countryiso3code  date      value  \\\n",
       "1366  {'id': 'AR', 'value': 'Argentina'}             ARG  2001  97.193413   \n",
       "1654     {'id': 'BZ', 'value': 'Belize'}             BLZ  2001  81.300003   \n",
       "1731    {'id': 'BO', 'value': 'Bolivia'}             BOL  2020  90.502586   \n",
       "1736    {'id': 'BO', 'value': 'Bolivia'}             BOL  2015  88.582863   \n",
       "1739    {'id': 'BO', 'value': 'Bolivia'}             BOL  2012  91.873268   \n",
       "...                                  ...             ...   ...        ...   \n",
       "6157    {'id': 'UY', 'value': 'Uruguay'}             URY  2010  98.490952   \n",
       "6158    {'id': 'UY', 'value': 'Uruguay'}             URY  2009  98.533722   \n",
       "6159    {'id': 'UY', 'value': 'Uruguay'}             URY  2008  98.463661   \n",
       "6160    {'id': 'UY', 'value': 'Uruguay'}             URY  2007  98.241928   \n",
       "6161    {'id': 'UY', 'value': 'Uruguay'}             URY  2006  98.084358   \n",
       "\n",
       "     unit obs_status  decimal country_id country_val  \n",
       "1366                        0         AR   Argentina  \n",
       "1654                        0         BZ      Belize  \n",
       "1731                        0         BO     Bolivia  \n",
       "1736                        0         BO     Bolivia  \n",
       "1739                        0         BO     Bolivia  \n",
       "...   ...        ...      ...        ...         ...  \n",
       "6157                        0         UY     Uruguay  \n",
       "6158                        0         UY     Uruguay  \n",
       "6159                        0         UY     Uruguay  \n",
       "6160                        0         UY     Uruguay  \n",
       "6161                        0         UY     Uruguay  \n",
       "\n",
       "[169 rows x 9 columns]"
      ]
     },
     "execution_count": 32,
     "metadata": {},
     "output_type": "execute_result"
    }
   ],
   "source": [
    "countries_df = countries_df[countries_df['value'].notnull()]\n",
    "countries_df"
   ]
  },
  {
   "cell_type": "code",
   "execution_count": 33,
   "id": "154beae5-957c-4001-ba53-0ee18e72ced9",
   "metadata": {},
   "outputs": [
    {
     "data": {
      "text/html": [
       "<div>\n",
       "<style scoped>\n",
       "    .dataframe tbody tr th:only-of-type {\n",
       "        vertical-align: middle;\n",
       "    }\n",
       "\n",
       "    .dataframe tbody tr th {\n",
       "        vertical-align: top;\n",
       "    }\n",
       "\n",
       "    .dataframe thead th {\n",
       "        text-align: right;\n",
       "    }\n",
       "</style>\n",
       "<table border=\"1\" class=\"dataframe\">\n",
       "  <thead>\n",
       "    <tr style=\"text-align: right;\">\n",
       "      <th></th>\n",
       "      <th>country</th>\n",
       "      <th>countryiso3code</th>\n",
       "      <th>date</th>\n",
       "      <th>value</th>\n",
       "      <th>unit</th>\n",
       "      <th>obs_status</th>\n",
       "      <th>decimal</th>\n",
       "      <th>country_id</th>\n",
       "      <th>country_name</th>\n",
       "    </tr>\n",
       "  </thead>\n",
       "  <tbody>\n",
       "    <tr>\n",
       "      <th>1366</th>\n",
       "      <td>{'id': 'AR', 'value': 'Argentina'}</td>\n",
       "      <td>ARG</td>\n",
       "      <td>2001</td>\n",
       "      <td>97.193413</td>\n",
       "      <td></td>\n",
       "      <td></td>\n",
       "      <td>0</td>\n",
       "      <td>AR</td>\n",
       "      <td>Argentina</td>\n",
       "    </tr>\n",
       "    <tr>\n",
       "      <th>1654</th>\n",
       "      <td>{'id': 'BZ', 'value': 'Belize'}</td>\n",
       "      <td>BLZ</td>\n",
       "      <td>2001</td>\n",
       "      <td>81.300003</td>\n",
       "      <td></td>\n",
       "      <td></td>\n",
       "      <td>0</td>\n",
       "      <td>BZ</td>\n",
       "      <td>Belize</td>\n",
       "    </tr>\n",
       "    <tr>\n",
       "      <th>1731</th>\n",
       "      <td>{'id': 'BO', 'value': 'Bolivia'}</td>\n",
       "      <td>BOL</td>\n",
       "      <td>2020</td>\n",
       "      <td>90.502586</td>\n",
       "      <td></td>\n",
       "      <td></td>\n",
       "      <td>0</td>\n",
       "      <td>BO</td>\n",
       "      <td>Bolivia</td>\n",
       "    </tr>\n",
       "    <tr>\n",
       "      <th>1736</th>\n",
       "      <td>{'id': 'BO', 'value': 'Bolivia'}</td>\n",
       "      <td>BOL</td>\n",
       "      <td>2015</td>\n",
       "      <td>88.582863</td>\n",
       "      <td></td>\n",
       "      <td></td>\n",
       "      <td>0</td>\n",
       "      <td>BO</td>\n",
       "      <td>Bolivia</td>\n",
       "    </tr>\n",
       "    <tr>\n",
       "      <th>1739</th>\n",
       "      <td>{'id': 'BO', 'value': 'Bolivia'}</td>\n",
       "      <td>BOL</td>\n",
       "      <td>2012</td>\n",
       "      <td>91.873268</td>\n",
       "      <td></td>\n",
       "      <td></td>\n",
       "      <td>0</td>\n",
       "      <td>BO</td>\n",
       "      <td>Bolivia</td>\n",
       "    </tr>\n",
       "    <tr>\n",
       "      <th>...</th>\n",
       "      <td>...</td>\n",
       "      <td>...</td>\n",
       "      <td>...</td>\n",
       "      <td>...</td>\n",
       "      <td>...</td>\n",
       "      <td>...</td>\n",
       "      <td>...</td>\n",
       "      <td>...</td>\n",
       "      <td>...</td>\n",
       "    </tr>\n",
       "    <tr>\n",
       "      <th>6157</th>\n",
       "      <td>{'id': 'UY', 'value': 'Uruguay'}</td>\n",
       "      <td>URY</td>\n",
       "      <td>2010</td>\n",
       "      <td>98.490952</td>\n",
       "      <td></td>\n",
       "      <td></td>\n",
       "      <td>0</td>\n",
       "      <td>UY</td>\n",
       "      <td>Uruguay</td>\n",
       "    </tr>\n",
       "    <tr>\n",
       "      <th>6158</th>\n",
       "      <td>{'id': 'UY', 'value': 'Uruguay'}</td>\n",
       "      <td>URY</td>\n",
       "      <td>2009</td>\n",
       "      <td>98.533722</td>\n",
       "      <td></td>\n",
       "      <td></td>\n",
       "      <td>0</td>\n",
       "      <td>UY</td>\n",
       "      <td>Uruguay</td>\n",
       "    </tr>\n",
       "    <tr>\n",
       "      <th>6159</th>\n",
       "      <td>{'id': 'UY', 'value': 'Uruguay'}</td>\n",
       "      <td>URY</td>\n",
       "      <td>2008</td>\n",
       "      <td>98.463661</td>\n",
       "      <td></td>\n",
       "      <td></td>\n",
       "      <td>0</td>\n",
       "      <td>UY</td>\n",
       "      <td>Uruguay</td>\n",
       "    </tr>\n",
       "    <tr>\n",
       "      <th>6160</th>\n",
       "      <td>{'id': 'UY', 'value': 'Uruguay'}</td>\n",
       "      <td>URY</td>\n",
       "      <td>2007</td>\n",
       "      <td>98.241928</td>\n",
       "      <td></td>\n",
       "      <td></td>\n",
       "      <td>0</td>\n",
       "      <td>UY</td>\n",
       "      <td>Uruguay</td>\n",
       "    </tr>\n",
       "    <tr>\n",
       "      <th>6161</th>\n",
       "      <td>{'id': 'UY', 'value': 'Uruguay'}</td>\n",
       "      <td>URY</td>\n",
       "      <td>2006</td>\n",
       "      <td>98.084358</td>\n",
       "      <td></td>\n",
       "      <td></td>\n",
       "      <td>0</td>\n",
       "      <td>UY</td>\n",
       "      <td>Uruguay</td>\n",
       "    </tr>\n",
       "  </tbody>\n",
       "</table>\n",
       "<p>169 rows × 9 columns</p>\n",
       "</div>"
      ],
      "text/plain": [
       "                                 country countryiso3code  date      value  \\\n",
       "1366  {'id': 'AR', 'value': 'Argentina'}             ARG  2001  97.193413   \n",
       "1654     {'id': 'BZ', 'value': 'Belize'}             BLZ  2001  81.300003   \n",
       "1731    {'id': 'BO', 'value': 'Bolivia'}             BOL  2020  90.502586   \n",
       "1736    {'id': 'BO', 'value': 'Bolivia'}             BOL  2015  88.582863   \n",
       "1739    {'id': 'BO', 'value': 'Bolivia'}             BOL  2012  91.873268   \n",
       "...                                  ...             ...   ...        ...   \n",
       "6157    {'id': 'UY', 'value': 'Uruguay'}             URY  2010  98.490952   \n",
       "6158    {'id': 'UY', 'value': 'Uruguay'}             URY  2009  98.533722   \n",
       "6159    {'id': 'UY', 'value': 'Uruguay'}             URY  2008  98.463661   \n",
       "6160    {'id': 'UY', 'value': 'Uruguay'}             URY  2007  98.241928   \n",
       "6161    {'id': 'UY', 'value': 'Uruguay'}             URY  2006  98.084358   \n",
       "\n",
       "     unit obs_status  decimal country_id country_name  \n",
       "1366                        0         AR    Argentina  \n",
       "1654                        0         BZ       Belize  \n",
       "1731                        0         BO      Bolivia  \n",
       "1736                        0         BO      Bolivia  \n",
       "1739                        0         BO      Bolivia  \n",
       "...   ...        ...      ...        ...          ...  \n",
       "6157                        0         UY      Uruguay  \n",
       "6158                        0         UY      Uruguay  \n",
       "6159                        0         UY      Uruguay  \n",
       "6160                        0         UY      Uruguay  \n",
       "6161                        0         UY      Uruguay  \n",
       "\n",
       "[169 rows x 9 columns]"
      ]
     },
     "execution_count": 33,
     "metadata": {},
     "output_type": "execute_result"
    }
   ],
   "source": [
    "# I'll also change the column country_val to country_name for clarity\n",
    "countries_df = countries_df.rename(columns={\"country_val\": \"country_name\"})\n",
    "countries_df"
   ]
  },
  {
   "cell_type": "markdown",
   "id": "cf99a4e0-06e7-46d6-9cbd-6ed8c1911694",
   "metadata": {},
   "source": [
    "**Process notes**: Ok great! There are some non-null values in the values column. The number of records diminished greatly from 456 to 169 - we have to keep an eye on that. \n",
    "\n",
    "I also noticed now that there are multiple records for these countries by year. This might be useful to visualize and analyze how the literacy rates have improved of decreased through the years - but I also would like to see the most recent data. I will get the **most recent records for each country** and store it in another df.\n",
    "\n",
    "To do this I will aggregate the data by country and then fetch the most recent year (the max)"
   ]
  },
  {
   "cell_type": "code",
   "execution_count": 34,
   "id": "f7e89b4d-b9f8-4e72-8abf-fcb886cba46e",
   "metadata": {},
   "outputs": [],
   "source": [
    "most_recent_mask = countries_df.groupby('country_name')['date'].idxmax()\n",
    "\n",
    "most_recent_country_df = countries_df.loc[most_recent_mask]"
   ]
  },
  {
   "cell_type": "markdown",
   "id": "0bff7597-3876-4b12-86f8-7949f7a7370f",
   "metadata": {},
   "source": [
    "**Process thoughts:** I am going to drop some columns, here's why:\n",
    "* the `country` column since I already extracted its data\n",
    "* `unit`, `obs_status`, and `decimal` as we don't have any data there"
   ]
  },
  {
   "cell_type": "code",
   "execution_count": 35,
   "id": "57b64f1f-e89d-443e-b6e6-e8d9cb614805",
   "metadata": {},
   "outputs": [
    {
     "data": {
      "text/html": [
       "<div>\n",
       "<style scoped>\n",
       "    .dataframe tbody tr th:only-of-type {\n",
       "        vertical-align: middle;\n",
       "    }\n",
       "\n",
       "    .dataframe tbody tr th {\n",
       "        vertical-align: top;\n",
       "    }\n",
       "\n",
       "    .dataframe thead th {\n",
       "        text-align: right;\n",
       "    }\n",
       "</style>\n",
       "<table border=\"1\" class=\"dataframe\">\n",
       "  <thead>\n",
       "    <tr style=\"text-align: right;\">\n",
       "      <th></th>\n",
       "      <th>countryiso3code</th>\n",
       "      <th>date</th>\n",
       "      <th>value</th>\n",
       "      <th>country_id</th>\n",
       "      <th>country_name</th>\n",
       "    </tr>\n",
       "  </thead>\n",
       "  <tbody>\n",
       "    <tr>\n",
       "      <th>1366</th>\n",
       "      <td>ARG</td>\n",
       "      <td>2001</td>\n",
       "      <td>97.193413</td>\n",
       "      <td>AR</td>\n",
       "      <td>Argentina</td>\n",
       "    </tr>\n",
       "    <tr>\n",
       "      <th>1654</th>\n",
       "      <td>BLZ</td>\n",
       "      <td>2001</td>\n",
       "      <td>81.300003</td>\n",
       "      <td>BZ</td>\n",
       "      <td>Belize</td>\n",
       "    </tr>\n",
       "    <tr>\n",
       "      <th>1731</th>\n",
       "      <td>BOL</td>\n",
       "      <td>2020</td>\n",
       "      <td>90.502586</td>\n",
       "      <td>BO</td>\n",
       "      <td>Bolivia</td>\n",
       "    </tr>\n",
       "    <tr>\n",
       "      <th>1801</th>\n",
       "      <td>BRA</td>\n",
       "      <td>2022</td>\n",
       "      <td>94.919998</td>\n",
       "      <td>BR</td>\n",
       "      <td>Brazil</td>\n",
       "    </tr>\n",
       "    <tr>\n",
       "      <th>2137</th>\n",
       "      <td>CHL</td>\n",
       "      <td>2022</td>\n",
       "      <td>97.120003</td>\n",
       "      <td>CL</td>\n",
       "      <td>Chile</td>\n",
       "    </tr>\n",
       "    <tr>\n",
       "      <th>2187</th>\n",
       "      <td>COL</td>\n",
       "      <td>2020</td>\n",
       "      <td>95.875061</td>\n",
       "      <td>CO</td>\n",
       "      <td>Colombia</td>\n",
       "    </tr>\n",
       "    <tr>\n",
       "      <th>2282</th>\n",
       "      <td>CRI</td>\n",
       "      <td>2021</td>\n",
       "      <td>98.099998</td>\n",
       "      <td>CR</td>\n",
       "      <td>Costa Rica</td>\n",
       "    </tr>\n",
       "    <tr>\n",
       "      <th>2354</th>\n",
       "      <td>CUB</td>\n",
       "      <td>2021</td>\n",
       "      <td>99.717148</td>\n",
       "      <td>CU</td>\n",
       "      <td>Cuba</td>\n",
       "    </tr>\n",
       "    <tr>\n",
       "      <th>2521</th>\n",
       "      <td>DOM</td>\n",
       "      <td>2022</td>\n",
       "      <td>95.599998</td>\n",
       "      <td>DO</td>\n",
       "      <td>Dominican Republic</td>\n",
       "    </tr>\n",
       "    <tr>\n",
       "      <th>2545</th>\n",
       "      <td>ECU</td>\n",
       "      <td>2022</td>\n",
       "      <td>93.050751</td>\n",
       "      <td>EC</td>\n",
       "      <td>Ecuador</td>\n",
       "    </tr>\n",
       "    <tr>\n",
       "      <th>2595</th>\n",
       "      <td>SLV</td>\n",
       "      <td>2020</td>\n",
       "      <td>88.541527</td>\n",
       "      <td>SV</td>\n",
       "      <td>El Salvador</td>\n",
       "    </tr>\n",
       "    <tr>\n",
       "      <th>3097</th>\n",
       "      <td>GTM</td>\n",
       "      <td>2022</td>\n",
       "      <td>80.389999</td>\n",
       "      <td>GT</td>\n",
       "      <td>Guatemala</td>\n",
       "    </tr>\n",
       "    <tr>\n",
       "      <th>3220</th>\n",
       "      <td>HND</td>\n",
       "      <td>2019</td>\n",
       "      <td>88.731697</td>\n",
       "      <td>HN</td>\n",
       "      <td>Honduras</td>\n",
       "    </tr>\n",
       "    <tr>\n",
       "      <th>4227</th>\n",
       "      <td>MEX</td>\n",
       "      <td>2020</td>\n",
       "      <td>94.495132</td>\n",
       "      <td>MX</td>\n",
       "      <td>Mexico</td>\n",
       "    </tr>\n",
       "    <tr>\n",
       "      <th>4592</th>\n",
       "      <td>NIC</td>\n",
       "      <td>2015</td>\n",
       "      <td>82.779350</td>\n",
       "      <td>NI</td>\n",
       "      <td>Nicaragua</td>\n",
       "    </tr>\n",
       "    <tr>\n",
       "      <th>4804</th>\n",
       "      <td>PAN</td>\n",
       "      <td>2019</td>\n",
       "      <td>95.358879</td>\n",
       "      <td>PA</td>\n",
       "      <td>Panama</td>\n",
       "    </tr>\n",
       "    <tr>\n",
       "      <th>4851</th>\n",
       "      <td>PRY</td>\n",
       "      <td>2020</td>\n",
       "      <td>94.181412</td>\n",
       "      <td>PY</td>\n",
       "      <td>Paraguay</td>\n",
       "    </tr>\n",
       "    <tr>\n",
       "      <th>4875</th>\n",
       "      <td>PER</td>\n",
       "      <td>2020</td>\n",
       "      <td>92.019028</td>\n",
       "      <td>PE</td>\n",
       "      <td>Peru</td>\n",
       "    </tr>\n",
       "    <tr>\n",
       "      <th>6148</th>\n",
       "      <td>URY</td>\n",
       "      <td>2019</td>\n",
       "      <td>99.035263</td>\n",
       "      <td>UY</td>\n",
       "      <td>Uruguay</td>\n",
       "    </tr>\n",
       "  </tbody>\n",
       "</table>\n",
       "</div>"
      ],
      "text/plain": [
       "     countryiso3code  date      value country_id        country_name\n",
       "1366             ARG  2001  97.193413         AR           Argentina\n",
       "1654             BLZ  2001  81.300003         BZ              Belize\n",
       "1731             BOL  2020  90.502586         BO             Bolivia\n",
       "1801             BRA  2022  94.919998         BR              Brazil\n",
       "2137             CHL  2022  97.120003         CL               Chile\n",
       "2187             COL  2020  95.875061         CO            Colombia\n",
       "2282             CRI  2021  98.099998         CR          Costa Rica\n",
       "2354             CUB  2021  99.717148         CU                Cuba\n",
       "2521             DOM  2022  95.599998         DO  Dominican Republic\n",
       "2545             ECU  2022  93.050751         EC             Ecuador\n",
       "2595             SLV  2020  88.541527         SV         El Salvador\n",
       "3097             GTM  2022  80.389999         GT           Guatemala\n",
       "3220             HND  2019  88.731697         HN            Honduras\n",
       "4227             MEX  2020  94.495132         MX              Mexico\n",
       "4592             NIC  2015  82.779350         NI           Nicaragua\n",
       "4804             PAN  2019  95.358879         PA              Panama\n",
       "4851             PRY  2020  94.181412         PY            Paraguay\n",
       "4875             PER  2020  92.019028         PE                Peru\n",
       "6148             URY  2019  99.035263         UY             Uruguay"
      ]
     },
     "execution_count": 35,
     "metadata": {},
     "output_type": "execute_result"
    }
   ],
   "source": [
    "most_recent_country_df = most_recent_country_df.drop(columns=['country', 'unit', 'obs_status', 'decimal'])\n",
    "\n",
    "most_recent_country_df"
   ]
  },
  {
   "cell_type": "markdown",
   "id": "079f44be-94c0-45f4-9b58-24402c955789",
   "metadata": {},
   "source": [
    "**Process thoughts:** I am going to reset the index and move the columns around to finish tidying my df up :)"
   ]
  },
  {
   "cell_type": "code",
   "execution_count": 36,
   "id": "31045a22-0d89-474a-b19e-ca3c58c6ead5",
   "metadata": {},
   "outputs": [
    {
     "data": {
      "text/html": [
       "<div>\n",
       "<style scoped>\n",
       "    .dataframe tbody tr th:only-of-type {\n",
       "        vertical-align: middle;\n",
       "    }\n",
       "\n",
       "    .dataframe tbody tr th {\n",
       "        vertical-align: top;\n",
       "    }\n",
       "\n",
       "    .dataframe thead th {\n",
       "        text-align: right;\n",
       "    }\n",
       "</style>\n",
       "<table border=\"1\" class=\"dataframe\">\n",
       "  <thead>\n",
       "    <tr style=\"text-align: right;\">\n",
       "      <th></th>\n",
       "      <th>country_name</th>\n",
       "      <th>countryiso3code</th>\n",
       "      <th>country_id</th>\n",
       "      <th>date</th>\n",
       "      <th>value</th>\n",
       "    </tr>\n",
       "  </thead>\n",
       "  <tbody>\n",
       "    <tr>\n",
       "      <th>0</th>\n",
       "      <td>Argentina</td>\n",
       "      <td>ARG</td>\n",
       "      <td>AR</td>\n",
       "      <td>2001</td>\n",
       "      <td>97.193413</td>\n",
       "    </tr>\n",
       "    <tr>\n",
       "      <th>1</th>\n",
       "      <td>Belize</td>\n",
       "      <td>BLZ</td>\n",
       "      <td>BZ</td>\n",
       "      <td>2001</td>\n",
       "      <td>81.300003</td>\n",
       "    </tr>\n",
       "    <tr>\n",
       "      <th>2</th>\n",
       "      <td>Bolivia</td>\n",
       "      <td>BOL</td>\n",
       "      <td>BO</td>\n",
       "      <td>2020</td>\n",
       "      <td>90.502586</td>\n",
       "    </tr>\n",
       "    <tr>\n",
       "      <th>3</th>\n",
       "      <td>Brazil</td>\n",
       "      <td>BRA</td>\n",
       "      <td>BR</td>\n",
       "      <td>2022</td>\n",
       "      <td>94.919998</td>\n",
       "    </tr>\n",
       "    <tr>\n",
       "      <th>4</th>\n",
       "      <td>Chile</td>\n",
       "      <td>CHL</td>\n",
       "      <td>CL</td>\n",
       "      <td>2022</td>\n",
       "      <td>97.120003</td>\n",
       "    </tr>\n",
       "    <tr>\n",
       "      <th>5</th>\n",
       "      <td>Colombia</td>\n",
       "      <td>COL</td>\n",
       "      <td>CO</td>\n",
       "      <td>2020</td>\n",
       "      <td>95.875061</td>\n",
       "    </tr>\n",
       "    <tr>\n",
       "      <th>6</th>\n",
       "      <td>Costa Rica</td>\n",
       "      <td>CRI</td>\n",
       "      <td>CR</td>\n",
       "      <td>2021</td>\n",
       "      <td>98.099998</td>\n",
       "    </tr>\n",
       "    <tr>\n",
       "      <th>7</th>\n",
       "      <td>Cuba</td>\n",
       "      <td>CUB</td>\n",
       "      <td>CU</td>\n",
       "      <td>2021</td>\n",
       "      <td>99.717148</td>\n",
       "    </tr>\n",
       "    <tr>\n",
       "      <th>8</th>\n",
       "      <td>Dominican Republic</td>\n",
       "      <td>DOM</td>\n",
       "      <td>DO</td>\n",
       "      <td>2022</td>\n",
       "      <td>95.599998</td>\n",
       "    </tr>\n",
       "    <tr>\n",
       "      <th>9</th>\n",
       "      <td>Ecuador</td>\n",
       "      <td>ECU</td>\n",
       "      <td>EC</td>\n",
       "      <td>2022</td>\n",
       "      <td>93.050751</td>\n",
       "    </tr>\n",
       "    <tr>\n",
       "      <th>10</th>\n",
       "      <td>El Salvador</td>\n",
       "      <td>SLV</td>\n",
       "      <td>SV</td>\n",
       "      <td>2020</td>\n",
       "      <td>88.541527</td>\n",
       "    </tr>\n",
       "    <tr>\n",
       "      <th>11</th>\n",
       "      <td>Guatemala</td>\n",
       "      <td>GTM</td>\n",
       "      <td>GT</td>\n",
       "      <td>2022</td>\n",
       "      <td>80.389999</td>\n",
       "    </tr>\n",
       "    <tr>\n",
       "      <th>12</th>\n",
       "      <td>Honduras</td>\n",
       "      <td>HND</td>\n",
       "      <td>HN</td>\n",
       "      <td>2019</td>\n",
       "      <td>88.731697</td>\n",
       "    </tr>\n",
       "    <tr>\n",
       "      <th>13</th>\n",
       "      <td>Mexico</td>\n",
       "      <td>MEX</td>\n",
       "      <td>MX</td>\n",
       "      <td>2020</td>\n",
       "      <td>94.495132</td>\n",
       "    </tr>\n",
       "    <tr>\n",
       "      <th>14</th>\n",
       "      <td>Nicaragua</td>\n",
       "      <td>NIC</td>\n",
       "      <td>NI</td>\n",
       "      <td>2015</td>\n",
       "      <td>82.779350</td>\n",
       "    </tr>\n",
       "    <tr>\n",
       "      <th>15</th>\n",
       "      <td>Panama</td>\n",
       "      <td>PAN</td>\n",
       "      <td>PA</td>\n",
       "      <td>2019</td>\n",
       "      <td>95.358879</td>\n",
       "    </tr>\n",
       "    <tr>\n",
       "      <th>16</th>\n",
       "      <td>Paraguay</td>\n",
       "      <td>PRY</td>\n",
       "      <td>PY</td>\n",
       "      <td>2020</td>\n",
       "      <td>94.181412</td>\n",
       "    </tr>\n",
       "    <tr>\n",
       "      <th>17</th>\n",
       "      <td>Peru</td>\n",
       "      <td>PER</td>\n",
       "      <td>PE</td>\n",
       "      <td>2020</td>\n",
       "      <td>92.019028</td>\n",
       "    </tr>\n",
       "    <tr>\n",
       "      <th>18</th>\n",
       "      <td>Uruguay</td>\n",
       "      <td>URY</td>\n",
       "      <td>UY</td>\n",
       "      <td>2019</td>\n",
       "      <td>99.035263</td>\n",
       "    </tr>\n",
       "  </tbody>\n",
       "</table>\n",
       "</div>"
      ],
      "text/plain": [
       "          country_name countryiso3code country_id  date      value\n",
       "0            Argentina             ARG         AR  2001  97.193413\n",
       "1               Belize             BLZ         BZ  2001  81.300003\n",
       "2              Bolivia             BOL         BO  2020  90.502586\n",
       "3               Brazil             BRA         BR  2022  94.919998\n",
       "4                Chile             CHL         CL  2022  97.120003\n",
       "5             Colombia             COL         CO  2020  95.875061\n",
       "6           Costa Rica             CRI         CR  2021  98.099998\n",
       "7                 Cuba             CUB         CU  2021  99.717148\n",
       "8   Dominican Republic             DOM         DO  2022  95.599998\n",
       "9              Ecuador             ECU         EC  2022  93.050751\n",
       "10         El Salvador             SLV         SV  2020  88.541527\n",
       "11           Guatemala             GTM         GT  2022  80.389999\n",
       "12            Honduras             HND         HN  2019  88.731697\n",
       "13              Mexico             MEX         MX  2020  94.495132\n",
       "14           Nicaragua             NIC         NI  2015  82.779350\n",
       "15              Panama             PAN         PA  2019  95.358879\n",
       "16            Paraguay             PRY         PY  2020  94.181412\n",
       "17                Peru             PER         PE  2020  92.019028\n",
       "18             Uruguay             URY         UY  2019  99.035263"
      ]
     },
     "execution_count": 36,
     "metadata": {},
     "output_type": "execute_result"
    }
   ],
   "source": [
    "most_recent_country_df = most_recent_country_df.reset_index(drop=True)\n",
    "most_recent_country_df = most_recent_country_df[['country_name', 'countryiso3code', 'country_id', 'date', 'value']]\n",
    "most_recent_country_df"
   ]
  },
  {
   "cell_type": "markdown",
   "id": "bf194588-494c-415f-b33b-f7ecb2659343",
   "metadata": {},
   "source": [
    "**Process notes:** great! This looks way better than what we started with. I decided to keep the iso codes and ids in case I can merge this data with other data I source at a later date. Lets visualize this!"
   ]
  },
  {
   "cell_type": "code",
   "execution_count": 59,
   "id": "c34cc252-9fbd-48a1-8e97-98ac7af2a469",
   "metadata": {},
   "outputs": [
    {
     "data": {
      "image/png": "[encoded data removed]",
      "text/plain": [
       "<Figure size 900x600 with 1 Axes>"
      ]
     },
     "metadata": {},
     "output_type": "display_data"
    }
   ],
   "source": [
    "plt.figure(figsize=(9, 6))\n",
    "plt.bar(most_recent_country_df['country_name'], most_recent_country_df['value'], color = 'skyblue')\n",
    "plt.xlabel('Country', fontsize=10)\n",
    "plt.ylabel('Literacy Rate', fontsize=10)\n",
    "plt.title('Literacy Rate for Latin American Countries - Most recent data')\n",
    "plt.xticks(rotation=45, ha='right', fontsize=9)\n",
    "plt.tight_layout()\n",
    "\n",
    "\n",
    "plt.show()"
   ]
  },
  {
   "cell_type": "markdown",
   "id": "208f3f66-9756-46eb-88e4-0a502300eb8a",
   "metadata": {},
   "source": [
    "**Process notes:** I would love to create a line plot to see the trends for each country by year. This will be a task for later :)"
   ]
  },
  {
   "cell_type": "code",
   "execution_count": null,
   "id": "3d598690-4ee9-44e5-ab87-4d307bca6c90",
   "metadata": {},
   "outputs": [],
   "source": []
  }
 ],
 "metadata": {
  "kernelspec": {
   "display_name": "Python 3 (ipykernel)",
   "language": "python",
   "name": "python3"
  },
  "language_info": {
   "codemirror_mode": {
    "name": "ipython",
    "version": 3
   },
   "file_extension": ".py",
   "mimetype": "text/x-python",
   "name": "python",
   "nbconvert_exporter": "python",
   "pygments_lexer": "ipython3",
   "version": "3.10.9"
  }
 },
 "nbformat": 4,
 "nbformat_minor": 5
}
