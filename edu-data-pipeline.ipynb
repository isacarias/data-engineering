{
 "cells": [
  {
   "cell_type": "code",
   "execution_count": 4,
   "id": "f7e10126-5974-4a2b-b989-b4da10667a61",
   "metadata": {},
   "outputs": [
    {
     "name": "stdout",
     "output_type": "stream",
     "text": [
      "3.10.9 (main, Dec 15 2022, 10:44:50) [Clang 14.0.0 (clang-1400.0.29.202)]\n"
     ]
    }
   ],
   "source": [
    "# check python version\n",
    "import sys\n",
    "print(sys.version)"
   ]
  },
  {
   "cell_type": "markdown",
   "id": "72dea9a7-7157-4579-80c8-56062efd5309",
   "metadata": {},
   "source": [
    "## Data Pipeline"
   ]
  },
  {
   "cell_type": "markdown",
   "id": "c640870c-1369-4e48-9aa8-f8cef45a2b17",
   "metadata": {},
   "source": [
    "In this project I will showcase how to ETL female literacy rate data from the World Bank by utilizing its API. \n",
    "\n",
    "More precisely, this table: *Literacy rate, adult female (% of females ages 15 and above)*"
   ]
  },
  {
   "cell_type": "markdown",
   "id": "71b29655-cc20-494e-b0fe-fd3d71bd792f",
   "metadata": {},
   "source": [
    "My ultimate goal is to use this data to create a data analysis dashboard that shows the gender disparity in the STEM field, particularly in Latin America. This dataset will be part of a collection of datasets I will use to make my analysis"
   ]
  },
  {
   "cell_type": "markdown",
   "id": "bf4bac25-fac3-45dc-88a5-a00c2454881c",
   "metadata": {},
   "source": [
    "If you want to know more about this API check the documentation here: https://datahelpdesk.worldbank.org/knowledgebase/articles/898581-api-basic-call-structures"
   ]
  },
  {
   "cell_type": "markdown",
   "id": "52e321cc-e29e-4783-b3f8-4ce79f3d1dbb",
   "metadata": {},
   "source": [
    "### Step 1: Data Extraction\n",
    "We will start by extracting data from the UNESCO data portal. For this, we need to use web scraping tools to automate the data extraction process."
   ]
  },
  {
   "cell_type": "code",
   "execution_count": 11,
   "id": "10f9e595-bf62-48a5-b11e-1055571257f5",
   "metadata": {},
   "outputs": [],
   "source": [
    "# Install dependencies\n",
    "!pip install -r requirements.txt"
   ]
  },
  {
   "cell_type": "code",
   "execution_count": 12,
   "id": "3be5bbaa-d445-44ff-8c39-c68995807988",
   "metadata": {},
   "outputs": [],
   "source": [
    "# Import libraries\n",
    "import requests\n",
    "from bs4 import BeautifulSoup\n",
    "import pandas as pd"
   ]
  },
  {
   "cell_type": "markdown",
   "id": "71e31fd6-8363-4d62-921d-b89be04e1363",
   "metadata": {},
   "source": [
    "##### API endpoint and parameters\n",
    "I am defining the parameters of my extracted data here in a param dictionary. The `requests` library automatically encodes these parameters into the url. The parameters are available in the [API's documentation](https://datahelpdesk.worldbank.org/knowledgebase/articles/898581-api-basic-call-structures). This improves code readability.\n",
    "\n",
    "* **JSON**: I want for the raw data to be extracted in json format as it's easier to read, more compact, and therefore faster to parse through \n",
    "* **date**: This is the date range of my data"
   ]
  },
  {
   "cell_type": "code",
   "execution_count": 124,
   "id": "5cf74cb8-05a2-4447-acc5-469f631c0058",
   "metadata": {},
   "outputs": [],
   "source": [
    "# World Bank API endpoint URL\n",
    "\n",
    "url = \"https://api.worldbank.org/v2/country/all/indicator/SE.ADT.LITR.FE.ZS\"\n",
    "\n",
    "# Establish the parameters you want your data to have\n",
    "params = {\n",
    "    \"format\": \"json\",\n",
    "    \"date\": \"2000:2023\",\n",
    "    \"per_page\": 1000\n",
    "}"
   ]
  },
  {
   "cell_type": "markdown",
   "id": "9100b568-73fc-435c-ad66-bf122de0942e",
   "metadata": {},
   "source": [
    "**Important Note**:\n",
    "We want to ensure we are extracting all the data. Since this is API returns paginated responses we have to ensure we are fetching all the pages"
   ]
  },
  {
   "cell_type": "markdown",
   "id": "96f98124-b714-4b88-90d1-fd22790405c8",
   "metadata": {},
   "source": [
    "There are multiple things happening within this function. \n",
    "\n",
    "We know that the first record of the json response for each page `data[0]` is metadata , *I discovered this when I extracted a single page*. Therefore: \n",
    "1. We are discarding the metadata by populating the list `all_data` with the actual data which is inside the second record in the json response `data[1]`\n",
    "2. Once we don't find any more data records we break out of the while loop and return all the data in a single list!"
   ]
  },
  {
   "cell_type": "code",
   "execution_count": 165,
   "id": "a5bc83e9-208f-48c7-ac35-5a2ef493ec52",
   "metadata": {},
   "outputs": [],
   "source": [
    "# Return all the pages from the paginated API responses\n",
    "\n",
    "def fetch_all(url, params):\n",
    "    all_data = []\n",
    "    page = 1\n",
    "    \n",
    "    while True:\n",
    "        params['page'] = page\n",
    "        response = requests.get(url, params=params)\n",
    "        data = response.json()\n",
    "        \n",
    "        # Check if there are records\n",
    "        if len(data) > 1 and data[1]:\n",
    "            all_data.extend(data[1])\n",
    "            page += 1\n",
    "        else:\n",
    "            break\n",
    "    return all_data"
   ]
  },
  {
   "cell_type": "code",
   "execution_count": 166,
   "id": "ed20cfb6-b53e-46e0-bd99-7d5834fd9470",
   "metadata": {},
   "outputs": [],
   "source": [
    "data = fetch_all(url, params)"
   ]
  },
  {
   "cell_type": "markdown",
   "id": "75611d7a-18fa-441a-acc0-de434064a3da",
   "metadata": {},
   "source": [
    "### Step 2. Data Transformation"
   ]
  },
  {
   "cell_type": "markdown",
   "id": "9c335d7e-1138-40bd-9a77-1bff88ba2590",
   "metadata": {
    "tags": []
   },
   "source": [
    "##### Convert to a raw data to DataFrame\n",
    "By checking the first few lines here we can see there is a metadata record at the beginning. We want to remove this."
   ]
  },
  {
   "cell_type": "code",
   "execution_count": 170,
   "id": "ee37385a-48cf-45d4-b036-f84189a7268d",
   "metadata": {},
   "outputs": [],
   "source": [
    "df = pd.DataFrame(data)"
   ]
  },
  {
   "cell_type": "markdown",
   "id": "cbaf082d-2174-4d64-9642-e3b6dc07696e",
   "metadata": {},
   "source": [
    "##### Exploratory Analysis\n",
    "\n",
    "We want to explore how the data looks, clean it up and get it ready for analysis"
   ]
  },
  {
   "cell_type": "code",
   "execution_count": 172,
   "id": "0273d381-4ca2-47de-bb11-f853d7d1ea82",
   "metadata": {},
   "outputs": [
    {
     "data": {
      "text/plain": [
       "(14098, 8)"
      ]
     },
     "execution_count": 172,
     "metadata": {},
     "output_type": "execute_result"
    }
   ],
   "source": [
    "df.shape"
   ]
  },
  {
   "cell_type": "code",
   "execution_count": 173,
   "id": "de62e68b-0f18-4607-9429-66ef3ee19b0b",
   "metadata": {},
   "outputs": [
    {
     "data": {
      "text/plain": [
       "Index(['indicator', 'country', 'countryiso3code', 'date', 'value', 'unit',\n",
       "       'obs_status', 'decimal'],\n",
       "      dtype='object')"
      ]
     },
     "execution_count": 173,
     "metadata": {},
     "output_type": "execute_result"
    }
   ],
   "source": [
    "df.columns"
   ]
  },
  {
   "cell_type": "code",
   "execution_count": 174,
   "id": "52bb69b6-d853-4f19-9369-4b2ccdc30e79",
   "metadata": {},
   "outputs": [
    {
     "data": {
      "text/html": [
       "<div>\n",
       "<style scoped>\n",
       "    .dataframe tbody tr th:only-of-type {\n",
       "        vertical-align: middle;\n",
       "    }\n",
       "\n",
       "    .dataframe tbody tr th {\n",
       "        vertical-align: top;\n",
       "    }\n",
       "\n",
       "    .dataframe thead th {\n",
       "        text-align: right;\n",
       "    }\n",
       "</style>\n",
       "<table border=\"1\" class=\"dataframe\">\n",
       "  <thead>\n",
       "    <tr style=\"text-align: right;\">\n",
       "      <th></th>\n",
       "      <th>indicator</th>\n",
       "      <th>country</th>\n",
       "      <th>countryiso3code</th>\n",
       "      <th>date</th>\n",
       "      <th>value</th>\n",
       "      <th>unit</th>\n",
       "      <th>obs_status</th>\n",
       "      <th>decimal</th>\n",
       "    </tr>\n",
       "  </thead>\n",
       "  <tbody>\n",
       "    <tr>\n",
       "      <th>0</th>\n",
       "      <td>{'id': 'SE.ADT.LITR.FE.ZS', 'value': 'Literacy...</td>\n",
       "      <td>{'id': 'ZH', 'value': 'Africa Eastern and Sout...</td>\n",
       "      <td>AFE</td>\n",
       "      <td>2023</td>\n",
       "      <td>NaN</td>\n",
       "      <td></td>\n",
       "      <td></td>\n",
       "      <td>0</td>\n",
       "    </tr>\n",
       "    <tr>\n",
       "      <th>1</th>\n",
       "      <td>{'id': 'SE.ADT.LITR.FE.ZS', 'value': 'Literacy...</td>\n",
       "      <td>{'id': 'ZH', 'value': 'Africa Eastern and Sout...</td>\n",
       "      <td>AFE</td>\n",
       "      <td>2022</td>\n",
       "      <td>67.545410</td>\n",
       "      <td></td>\n",
       "      <td></td>\n",
       "      <td>0</td>\n",
       "    </tr>\n",
       "    <tr>\n",
       "      <th>2</th>\n",
       "      <td>{'id': 'SE.ADT.LITR.FE.ZS', 'value': 'Literacy...</td>\n",
       "      <td>{'id': 'ZH', 'value': 'Africa Eastern and Sout...</td>\n",
       "      <td>AFE</td>\n",
       "      <td>2021</td>\n",
       "      <td>67.454010</td>\n",
       "      <td></td>\n",
       "      <td></td>\n",
       "      <td>0</td>\n",
       "    </tr>\n",
       "    <tr>\n",
       "      <th>3</th>\n",
       "      <td>{'id': 'SE.ADT.LITR.FE.ZS', 'value': 'Literacy...</td>\n",
       "      <td>{'id': 'ZH', 'value': 'Africa Eastern and Sout...</td>\n",
       "      <td>AFE</td>\n",
       "      <td>2020</td>\n",
       "      <td>67.536987</td>\n",
       "      <td></td>\n",
       "      <td></td>\n",
       "      <td>0</td>\n",
       "    </tr>\n",
       "    <tr>\n",
       "      <th>4</th>\n",
       "      <td>{'id': 'SE.ADT.LITR.FE.ZS', 'value': 'Literacy...</td>\n",
       "      <td>{'id': 'ZH', 'value': 'Africa Eastern and Sout...</td>\n",
       "      <td>AFE</td>\n",
       "      <td>2019</td>\n",
       "      <td>67.289780</td>\n",
       "      <td></td>\n",
       "      <td></td>\n",
       "      <td>0</td>\n",
       "    </tr>\n",
       "  </tbody>\n",
       "</table>\n",
       "</div>"
      ],
      "text/plain": [
       "                                           indicator  \\\n",
       "0  {'id': 'SE.ADT.LITR.FE.ZS', 'value': 'Literacy...   \n",
       "1  {'id': 'SE.ADT.LITR.FE.ZS', 'value': 'Literacy...   \n",
       "2  {'id': 'SE.ADT.LITR.FE.ZS', 'value': 'Literacy...   \n",
       "3  {'id': 'SE.ADT.LITR.FE.ZS', 'value': 'Literacy...   \n",
       "4  {'id': 'SE.ADT.LITR.FE.ZS', 'value': 'Literacy...   \n",
       "\n",
       "                                             country countryiso3code  date  \\\n",
       "0  {'id': 'ZH', 'value': 'Africa Eastern and Sout...             AFE  2023   \n",
       "1  {'id': 'ZH', 'value': 'Africa Eastern and Sout...             AFE  2022   \n",
       "2  {'id': 'ZH', 'value': 'Africa Eastern and Sout...             AFE  2021   \n",
       "3  {'id': 'ZH', 'value': 'Africa Eastern and Sout...             AFE  2020   \n",
       "4  {'id': 'ZH', 'value': 'Africa Eastern and Sout...             AFE  2019   \n",
       "\n",
       "       value unit obs_status  decimal  \n",
       "0        NaN                        0  \n",
       "1  67.545410                        0  \n",
       "2  67.454010                        0  \n",
       "3  67.536987                        0  \n",
       "4  67.289780                        0  "
      ]
     },
     "execution_count": 174,
     "metadata": {},
     "output_type": "execute_result"
    }
   ],
   "source": [
    "df.head()"
   ]
  },
  {
   "cell_type": "markdown",
   "id": "ba1abdc5-4253-44f3-9594-ad5ec749eead",
   "metadata": {},
   "source": [
    "First I am exploring the fields of the *indicator* column"
   ]
  },
  {
   "cell_type": "code",
   "execution_count": 187,
   "id": "bb3e37b0-f838-4d02-95c7-818a7e4815e9",
   "metadata": {},
   "outputs": [
    {
     "data": {
      "text/plain": [
       "{'id': 'SE.ADT.LITR.FE.ZS',\n",
       " 'value': 'Literacy rate, adult female (% of females ages 15 and above)'}"
      ]
     },
     "execution_count": 187,
     "metadata": {},
     "output_type": "execute_result"
    }
   ],
   "source": [
    "df['indicator'][0]"
   ]
  },
  {
   "cell_type": "code",
   "execution_count": 188,
   "id": "0909ba90-a9db-4c1b-b9dc-46500a411aee",
   "metadata": {},
   "outputs": [
    {
     "data": {
      "text/plain": [
       "'SE.ADT.LITR.FE.ZS'"
      ]
     },
     "execution_count": 188,
     "metadata": {},
     "output_type": "execute_result"
    }
   ],
   "source": [
    "df['indicator'][0]['id']"
   ]
  },
  {
   "cell_type": "code",
   "execution_count": 182,
   "id": "ba825dcd-9aaa-44e1-9103-bc09ea504f52",
   "metadata": {},
   "outputs": [
    {
     "data": {
      "text/plain": [
       "{'id': 'SE.ADT.LITR.FE.ZS',\n",
       " 'value': 'Literacy rate, adult female (% of females ages 15 and above)'}"
      ]
     },
     "execution_count": 182,
     "metadata": {},
     "output_type": "execute_result"
    }
   ],
   "source": [
    "df['indicator'][12332]"
   ]
  },
  {
   "cell_type": "markdown",
   "id": "a269fdf8-3d74-428e-a2c9-dc6e737e0eb1",
   "metadata": {},
   "source": [
    "**Process notes**: They might all be the same? I will extract the ids and values into a separate column each"
   ]
  },
  {
   "cell_type": "code",
   "execution_count": 190,
   "id": "c6a6b211-75a3-46bd-a736-61411fb4c265",
   "metadata": {},
   "outputs": [],
   "source": [
    "# Place the indicator id in a separate column for detailed examination\n",
    "\n",
    "df['indicator_id'] = df['indicator'].apply(lambda x: x['id'])"
   ]
  },
  {
   "cell_type": "code",
   "execution_count": 194,
   "id": "4e1f4a98-9584-4519-8a10-11702d87c13d",
   "metadata": {},
   "outputs": [
    {
     "data": {
      "text/plain": [
       "array(['SE.ADT.LITR.FE.ZS'], dtype=object)"
      ]
     },
     "execution_count": 194,
     "metadata": {},
     "output_type": "execute_result"
    }
   ],
   "source": [
    "df['indicator_id'].unique() # It seems like this is not of much help - it's just the data code"
   ]
  },
  {
   "cell_type": "code",
   "execution_count": 195,
   "id": "8d96241c-73be-42ce-8b4b-c7dc2509b117",
   "metadata": {},
   "outputs": [],
   "source": [
    "# Place the indicator value in a separate column for detailed examination\n",
    "\n",
    "df['indicator_val'] = df['indicator'].apply(lambda x: x['value'])"
   ]
  },
  {
   "cell_type": "code",
   "execution_count": 196,
   "id": "f375513e-0d9f-4b91-81f0-8cbe18626fa3",
   "metadata": {},
   "outputs": [
    {
     "data": {
      "text/plain": [
       "array(['Literacy rate, adult female (% of females ages 15 and above)'],\n",
       "      dtype=object)"
      ]
     },
     "execution_count": 196,
     "metadata": {},
     "output_type": "execute_result"
    }
   ],
   "source": [
    "df['indicator_val'].unique() # same for this - not so relevant"
   ]
  },
  {
   "cell_type": "markdown",
   "id": "35c6e8f4-7a0e-4d5a-b1e2-92affaec3b5b",
   "metadata": {},
   "source": [
    "**Process notes**: I decided to drop the indicator column and its derived columns as they're not relevant for the purposes of extracting this data"
   ]
  },
  {
   "cell_type": "code",
   "execution_count": 197,
   "id": "a4a56ab9-f176-468f-a4d8-bcafbc0c770e",
   "metadata": {},
   "outputs": [],
   "source": [
    "df.drop(columns=['indicator', 'indicator_id', 'indicator_val'], inplace=True)"
   ]
  },
  {
   "cell_type": "code",
   "execution_count": 198,
   "id": "ed82db20-c7e2-48df-a3c2-9af123644bf8",
   "metadata": {},
   "outputs": [
    {
     "data": {
      "text/plain": [
       "Index(['country', 'countryiso3code', 'date', 'value', 'unit', 'obs_status',\n",
       "       'decimal'],\n",
       "      dtype='object')"
      ]
     },
     "execution_count": 198,
     "metadata": {},
     "output_type": "execute_result"
    }
   ],
   "source": [
    "df.columns"
   ]
  },
  {
   "cell_type": "markdown",
   "id": "5fc4ce68-437d-4b60-8827-47b23d271ca4",
   "metadata": {},
   "source": [
    "**Process notes**: Now, I'll explore the country column"
   ]
  },
  {
   "cell_type": "code",
   "execution_count": 200,
   "id": "cae02e81-399f-417c-b1ec-37ab552b7254",
   "metadata": {},
   "outputs": [
    {
     "data": {
      "text/plain": [
       "{'id': 'ZH', 'value': 'Africa Eastern and Southern'}"
      ]
     },
     "execution_count": 200,
     "metadata": {},
     "output_type": "execute_result"
    }
   ],
   "source": [
    "df['country'][0]"
   ]
  },
  {
   "cell_type": "code",
   "execution_count": 201,
   "id": "9c51df8f-6bfb-403a-b07c-baa516ce6d85",
   "metadata": {},
   "outputs": [],
   "source": [
    "df['country_id'] = df['country'].apply(lambda x: x['id'])"
   ]
  },
  {
   "cell_type": "code",
   "execution_count": 202,
   "id": "8f915cf4-cfcf-4bf0-9f29-f7ab2baf742d",
   "metadata": {},
   "outputs": [],
   "source": [
    "df['country_val'] = df['country'].apply(lambda x: x['value'])"
   ]
  },
  {
   "cell_type": "code",
   "execution_count": 203,
   "id": "57142141-5b80-4141-8bb3-55e9aa995fd8",
   "metadata": {},
   "outputs": [
    {
     "data": {
      "text/plain": [
       "array(['ZH', 'ZI', '1A', 'S3', 'B8', 'V2', 'Z4', '4E', 'T4', 'XC', 'Z7',\n",
       "       '7E', 'T7', 'EU', 'F1', 'XE', 'XD', 'XF', 'ZT', 'XH', 'XI', 'XG',\n",
       "       'V3', 'ZJ', 'XJ', 'T2', 'XL', 'XO', 'XM', 'XN', 'ZQ', 'XQ', 'T3',\n",
       "       'XP', 'XU', 'XY', 'OE', 'S4', 'S2', 'V4', 'V1', 'S1', '8S', 'T5',\n",
       "       'ZG', 'ZF', 'T6', 'XT', '1W', 'AF', 'AL', 'DZ', 'AS', 'AD', 'AO',\n",
       "       'AG', 'AR', 'AM', 'AW', 'AU', 'AT', 'AZ', 'BS', 'BH', 'BD', 'BB',\n",
       "       'BY', 'BE', 'BZ', 'BJ', 'BM', 'BT', 'BO', 'BA', 'BW', 'BR', 'VG',\n",
       "       'BN', 'BG', 'BF', 'BI', 'CV', 'KH', 'CM', 'CA', 'KY', 'CF', 'TD',\n",
       "       'JG', 'CL', 'CN', 'CO', 'KM', 'CD', 'CG', 'CR', 'CI', 'HR', 'CU',\n",
       "       'CW', 'CY', 'CZ', 'DK', 'DJ', 'DM', 'DO', 'EC', 'EG', 'SV', 'GQ',\n",
       "       'ER', 'EE', 'SZ', 'ET', 'FO', 'FJ', 'FI', 'FR', 'PF', 'GA', 'GM',\n",
       "       'GE', 'DE', 'GH', 'GI', 'GR', 'GL', 'GD', 'GU', 'GT', 'GN', 'GW',\n",
       "       'GY', 'HT', 'HN', 'HK', 'HU', 'IS', 'IN', 'ID', 'IR', 'IQ', 'IE',\n",
       "       'IM', 'IL', 'IT', 'JM', 'JP', 'JO', 'KZ', 'KE', 'KI', 'KP', 'KR',\n",
       "       'XK', 'KW', 'KG', 'LA', 'LV', 'LB', 'LS', 'LR', 'LY', 'LI', 'LT',\n",
       "       'LU', 'MO', 'MG', 'MW', 'MY', 'MV', 'ML', 'MT', 'MH', 'MR', 'MU',\n",
       "       'MX', 'FM', 'MD', 'MC', 'MN', 'ME', 'MA', 'MZ', 'MM', 'NA', 'NR',\n",
       "       'NP', 'NL', 'NC', 'NZ', 'NI', 'NE', 'NG', 'MK', 'MP', 'NO', 'OM',\n",
       "       'PK', 'PW', 'PA', 'PG', 'PY', 'PE', 'PH', 'PL', 'PT', 'PR', 'QA',\n",
       "       'RO', 'RU', 'RW', 'WS', 'SM', 'ST', 'SA', 'SN', 'RS', 'SC', 'SL',\n",
       "       'SG', 'SX', 'SK', 'SI', 'SB', 'SO', 'ZA', 'SS', 'ES', 'LK', 'KN',\n",
       "       'LC', 'MF', 'VC', 'SD', 'SR', 'SE', 'CH', 'SY', 'TJ', 'TZ', 'TH',\n",
       "       'TL', 'TG', 'TO', 'TT', 'TN', 'TR', 'TM', 'TC', 'TV', 'UG', 'UA',\n",
       "       'AE', 'GB', 'US', 'UY', 'UZ', 'VU', 'VE', 'VN', 'VI', 'PS', 'YE',\n",
       "       'ZM', 'ZW'], dtype=object)"
      ]
     },
     "execution_count": 203,
     "metadata": {},
     "output_type": "execute_result"
    }
   ],
   "source": [
    "df['country_id'].unique()"
   ]
  },
  {
   "cell_type": "code",
   "execution_count": 204,
   "id": "490ccc77-68fb-482e-8e98-a6655026b201",
   "metadata": {},
   "outputs": [
    {
     "data": {
      "text/plain": [
       "array(['Africa Eastern and Southern', 'Africa Western and Central',\n",
       "       'Arab World', 'Caribbean small states',\n",
       "       'Central Europe and the Baltics', 'Early-demographic dividend',\n",
       "       'East Asia & Pacific',\n",
       "       'East Asia & Pacific (excluding high income)',\n",
       "       'East Asia & Pacific (IDA & IBRD countries)', 'Euro area',\n",
       "       'Europe & Central Asia',\n",
       "       'Europe & Central Asia (excluding high income)',\n",
       "       'Europe & Central Asia (IDA & IBRD countries)', 'European Union',\n",
       "       'Fragile and conflict affected situations',\n",
       "       'Heavily indebted poor countries (HIPC)', 'High income',\n",
       "       'IBRD only', 'IDA & IBRD total', 'IDA blend', 'IDA only',\n",
       "       'IDA total', 'Late-demographic dividend',\n",
       "       'Latin America & Caribbean',\n",
       "       'Latin America & Caribbean (excluding high income)',\n",
       "       'Latin America & the Caribbean (IDA & IBRD countries)',\n",
       "       'Least developed countries: UN classification',\n",
       "       'Low & middle income', 'Low income', 'Lower middle income',\n",
       "       'Middle East & North Africa',\n",
       "       'Middle East & North Africa (excluding high income)',\n",
       "       'Middle East & North Africa (IDA & IBRD countries)',\n",
       "       'Middle income', 'North America', 'Not classified', 'OECD members',\n",
       "       'Other small states', 'Pacific island small states',\n",
       "       'Post-demographic dividend', 'Pre-demographic dividend',\n",
       "       'Small states', 'South Asia', 'South Asia (IDA & IBRD)',\n",
       "       'Sub-Saharan Africa', 'Sub-Saharan Africa (excluding high income)',\n",
       "       'Sub-Saharan Africa (IDA & IBRD countries)', 'Upper middle income',\n",
       "       'World', 'Afghanistan', 'Albania', 'Algeria', 'American Samoa',\n",
       "       'Andorra', 'Angola', 'Antigua and Barbuda', 'Argentina', 'Armenia',\n",
       "       'Aruba', 'Australia', 'Austria', 'Azerbaijan', 'Bahamas, The',\n",
       "       'Bahrain', 'Bangladesh', 'Barbados', 'Belarus', 'Belgium',\n",
       "       'Belize', 'Benin', 'Bermuda', 'Bhutan', 'Bolivia',\n",
       "       'Bosnia and Herzegovina', 'Botswana', 'Brazil',\n",
       "       'British Virgin Islands', 'Brunei Darussalam', 'Bulgaria',\n",
       "       'Burkina Faso', 'Burundi', 'Cabo Verde', 'Cambodia', 'Cameroon',\n",
       "       'Canada', 'Cayman Islands', 'Central African Republic', 'Chad',\n",
       "       'Channel Islands', 'Chile', 'China', 'Colombia', 'Comoros',\n",
       "       'Congo, Dem. Rep.', 'Congo, Rep.', 'Costa Rica', \"Cote d'Ivoire\",\n",
       "       'Croatia', 'Cuba', 'Curacao', 'Cyprus', 'Czechia', 'Denmark',\n",
       "       'Djibouti', 'Dominica', 'Dominican Republic', 'Ecuador',\n",
       "       'Egypt, Arab Rep.', 'El Salvador', 'Equatorial Guinea', 'Eritrea',\n",
       "       'Estonia', 'Eswatini', 'Ethiopia', 'Faroe Islands', 'Fiji',\n",
       "       'Finland', 'France', 'French Polynesia', 'Gabon', 'Gambia, The',\n",
       "       'Georgia', 'Germany', 'Ghana', 'Gibraltar', 'Greece', 'Greenland',\n",
       "       'Grenada', 'Guam', 'Guatemala', 'Guinea', 'Guinea-Bissau',\n",
       "       'Guyana', 'Haiti', 'Honduras', 'Hong Kong SAR, China', 'Hungary',\n",
       "       'Iceland', 'India', 'Indonesia', 'Iran, Islamic Rep.', 'Iraq',\n",
       "       'Ireland', 'Isle of Man', 'Israel', 'Italy', 'Jamaica', 'Japan',\n",
       "       'Jordan', 'Kazakhstan', 'Kenya', 'Kiribati',\n",
       "       \"Korea, Dem. People's Rep.\", 'Korea, Rep.', 'Kosovo', 'Kuwait',\n",
       "       'Kyrgyz Republic', 'Lao PDR', 'Latvia', 'Lebanon', 'Lesotho',\n",
       "       'Liberia', 'Libya', 'Liechtenstein', 'Lithuania', 'Luxembourg',\n",
       "       'Macao SAR, China', 'Madagascar', 'Malawi', 'Malaysia', 'Maldives',\n",
       "       'Mali', 'Malta', 'Marshall Islands', 'Mauritania', 'Mauritius',\n",
       "       'Mexico', 'Micronesia, Fed. Sts.', 'Moldova', 'Monaco', 'Mongolia',\n",
       "       'Montenegro', 'Morocco', 'Mozambique', 'Myanmar', 'Namibia',\n",
       "       'Nauru', 'Nepal', 'Netherlands', 'New Caledonia', 'New Zealand',\n",
       "       'Nicaragua', 'Niger', 'Nigeria', 'North Macedonia',\n",
       "       'Northern Mariana Islands', 'Norway', 'Oman', 'Pakistan', 'Palau',\n",
       "       'Panama', 'Papua New Guinea', 'Paraguay', 'Peru', 'Philippines',\n",
       "       'Poland', 'Portugal', 'Puerto Rico', 'Qatar', 'Romania',\n",
       "       'Russian Federation', 'Rwanda', 'Samoa', 'San Marino',\n",
       "       'Sao Tome and Principe', 'Saudi Arabia', 'Senegal', 'Serbia',\n",
       "       'Seychelles', 'Sierra Leone', 'Singapore',\n",
       "       'Sint Maarten (Dutch part)', 'Slovak Republic', 'Slovenia',\n",
       "       'Solomon Islands', 'Somalia', 'South Africa', 'South Sudan',\n",
       "       'Spain', 'Sri Lanka', 'St. Kitts and Nevis', 'St. Lucia',\n",
       "       'St. Martin (French part)', 'St. Vincent and the Grenadines',\n",
       "       'Sudan', 'Suriname', 'Sweden', 'Switzerland',\n",
       "       'Syrian Arab Republic', 'Tajikistan', 'Tanzania', 'Thailand',\n",
       "       'Timor-Leste', 'Togo', 'Tonga', 'Trinidad and Tobago', 'Tunisia',\n",
       "       'Turkiye', 'Turkmenistan', 'Turks and Caicos Islands', 'Tuvalu',\n",
       "       'Uganda', 'Ukraine', 'United Arab Emirates', 'United Kingdom',\n",
       "       'United States', 'Uruguay', 'Uzbekistan', 'Vanuatu',\n",
       "       'Venezuela, RB', 'Viet Nam', 'Virgin Islands (U.S.)',\n",
       "       'West Bank and Gaza', 'Yemen, Rep.', 'Zambia', 'Zimbabwe'],\n",
       "      dtype=object)"
      ]
     },
     "execution_count": 204,
     "metadata": {},
     "output_type": "execute_result"
    }
   ],
   "source": [
    "df['country_val'].unique()"
   ]
  },
  {
   "cell_type": "markdown",
   "id": "7b6ac774-861c-4981-8662-25dc80d808f2",
   "metadata": {},
   "source": [
    "**Process notes**: This data is very relevant! I will clean it up more as I am focusing my analysis on the LATAM region"
   ]
  },
  {
   "cell_type": "code",
   "execution_count": null,
   "id": "f146953d-0ce6-45a2-bad2-23da9aebc8bd",
   "metadata": {},
   "outputs": [],
   "source": []
  }
 ],
 "metadata": {
  "kernelspec": {
   "display_name": "Python 3 (ipykernel)",
   "language": "python",
   "name": "python3"
  },
  "language_info": {
   "codemirror_mode": {
    "name": "ipython",
    "version": 3
   },
   "file_extension": ".py",
   "mimetype": "text/x-python",
   "name": "python",
   "nbconvert_exporter": "python",
   "pygments_lexer": "ipython3",
   "version": "3.10.9"
  }
 },
 "nbformat": 4,
 "nbformat_minor": 5
}
